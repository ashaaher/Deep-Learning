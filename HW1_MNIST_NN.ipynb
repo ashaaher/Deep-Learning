{
  "nbformat": 4,
  "nbformat_minor": 0,
  "metadata": {
    "colab": {
      "name": "HW1_MNIST_NN.ipynb",
      "provenance": [],
      "toc_visible": true,
      "authorship_tag": "ABX9TyNOPvbpnElQYCfIUqHw6ddy",
      "include_colab_link": true
    },
    "kernelspec": {
      "name": "python3",
      "display_name": "Python 3"
    },
    "accelerator": "TPU"
  },
  "cells": [
    {
      "cell_type": "markdown",
      "metadata": {
        "id": "view-in-github",
        "colab_type": "text"
      },
      "source": [
        "<a href=\"https://colab.research.google.com/github/ashaaher/Deep-Learning/blob/master/HW1_MNIST_NN.ipynb\" target=\"_parent\"><img src=\"https://colab.research.google.com/assets/colab-badge.svg\" alt=\"Open In Colab\"/></a>"
      ]
    },
    {
      "cell_type": "markdown",
      "metadata": {
        "id": "ZGlXFlKTLRTn",
        "colab_type": "text"
      },
      "source": [
        "# Importing Libraries\n"
      ]
    },
    {
      "cell_type": "markdown",
      "metadata": {
        "id": "ZenAnuB3LN38",
        "colab_type": "text"
      },
      "source": [
        "import keras\n",
        "import pandas as pd\n",
        "import numpy as np,sys\n",
        "from keras.datasets import mnist\n",
        "import copy\n",
        "from matplotlib import pyplot\n",
        "from keras.preprocessing.image import ImageDataGenerator\n",
        "import os\n",
        "np.random.seed(1)"
      ]
    },
    {
      "cell_type": "code",
      "metadata": {
        "id": "ufRJjG8RLEOH",
        "colab_type": "code",
        "colab": {
          "base_uri": "https://localhost:8080/",
          "height": 80
        },
        "outputId": "9bcafbb7-e9ec-49bd-e50e-e21de449f56e"
      },
      "source": [
        "import keras\n",
        "import pandas as pd\n",
        "import numpy as np,sys\n",
        "from keras.datasets import mnist\n",
        "import copy\n",
        "from matplotlib import pyplot\n",
        "from keras.preprocessing.image import ImageDataGenerator\n",
        "import os\n",
        "np.random.seed(1)"
      ],
      "execution_count": 1,
      "outputs": [
        {
          "output_type": "stream",
          "text": [
            "Using TensorFlow backend.\n"
          ],
          "name": "stderr"
        },
        {
          "output_type": "display_data",
          "data": {
            "text/html": [
              "<p style=\"color: red;\">\n",
              "The default version of TensorFlow in Colab will soon switch to TensorFlow 2.x.<br>\n",
              "We recommend you <a href=\"https://www.tensorflow.org/guide/migrate\" target=\"_blank\">upgrade</a> now \n",
              "or ensure your notebook will continue to use TensorFlow 1.x via the <code>%tensorflow_version 1.x</code> magic:\n",
              "<a href=\"https://colab.research.google.com/notebooks/tensorflow_version.ipynb\" target=\"_blank\">more info</a>.</p>\n"
            ],
            "text/plain": [
              "<IPython.core.display.HTML object>"
            ]
          },
          "metadata": {
            "tags": []
          }
        }
      ]
    },
    {
      "cell_type": "markdown",
      "metadata": {
        "id": "Pr-jfxKHLYCK",
        "colab_type": "text"
      },
      "source": [
        "# Loading and Visualization of Dataset"
      ]
    },
    {
      "cell_type": "code",
      "metadata": {
        "id": "iX4jmXa11AYh",
        "colab_type": "code",
        "outputId": "4143400d-49e9-4a25-99e1-25792bad00f2",
        "colab": {
          "base_uri": "https://localhost:8080/",
          "height": 302
        }
      },
      "source": [
        "from keras.datasets import mnist\n",
        "(x_train,y_train),(x_test,y_test)=mnist.load_data()\n",
        "for i in range(0, 9):\n",
        "\tpyplot.subplot(330 + 1 + i)\n",
        "\tpyplot.imshow(x_train[i], cmap=pyplot.get_cmap('gray'))"
      ],
      "execution_count": 2,
      "outputs": [
        {
          "output_type": "stream",
          "text": [
            "Downloading data from https://s3.amazonaws.com/img-datasets/mnist.npz\n",
            "11493376/11490434 [==============================] - 0s 0us/step\n"
          ],
          "name": "stdout"
        },
        {
          "output_type": "display_data",
          "data": {
            "image/png": "[encoded data removed]",
            "text/plain": [
              "<Figure size 432x288 with 9 Axes>"
            ]
          },
          "metadata": {
            "tags": []
          }
        }
      ]
    },
    {
      "cell_type": "markdown",
      "metadata": {
        "id": "WOJx7rOoLeDy",
        "colab_type": "text"
      },
      "source": [
        "# Normalizing the inputs"
      ]
    },
    {
      "cell_type": "code",
      "metadata": {
        "id": "n5b18ZDj09Qv",
        "colab_type": "code",
        "colab": {}
      },
      "source": [
        "images,labels = (x_train.reshape(len(x_train), 28*28)/255,y_train)"
      ],
      "execution_count": 0,
      "outputs": []
    },
    {
      "cell_type": "markdown",
      "metadata": {
        "id": "5xQPmJgoLmu8",
        "colab_type": "text"
      },
      "source": [
        "# One hot encoding"
      ]
    },
    {
      "cell_type": "code",
      "metadata": {
        "id": "DK3VSOy83MXz",
        "colab_type": "code",
        "colab": {}
      },
      "source": [
        "one_hot_labels = np.zeros((len(labels),10))"
      ],
      "execution_count": 0,
      "outputs": []
    },
    {
      "cell_type": "code",
      "metadata": {
        "id": "garYKpLm3ePm",
        "colab_type": "code",
        "colab": {}
      },
      "source": [
        "for i, l in enumerate(labels):\n",
        "  one_hot_labels[i][l] = 1\n",
        "labels =one_hot_labels"
      ],
      "execution_count": 0,
      "outputs": []
    },
    {
      "cell_type": "code",
      "metadata": {
        "id": "LYP9fJTW7XL0",
        "colab_type": "code",
        "colab": {}
      },
      "source": [
        "test_images = x_test.reshape(len(x_test),28*28)/255\n",
        "test_labels = np.zeros((len(y_test),10))\n",
        "for i,l in enumerate(y_test):\n",
        "    test_labels[i][l] =1"
      ],
      "execution_count": 0,
      "outputs": []
    },
    {
      "cell_type": "markdown",
      "metadata": {
        "id": "dDTyIZPRLqtW",
        "colab_type": "text"
      },
      "source": [
        "# Image augmentation"
      ]
    },
    {
      "cell_type": "code",
      "metadata": {
        "id": "eVf5Qyxu0fks",
        "colab_type": "code",
        "colab": {}
      },
      "source": [
        "\n",
        "x_train = x_train.reshape((x_train.shape[0], 28, 28, 1))\n",
        "x_test = x_test.reshape((x_test.shape[0], 28, 28, 1))\n",
        "x_train = x_train.astype('float32')\n",
        "x_test = x_test.astype('float32')\n",
        "datagen = ImageDataGenerator()\n",
        "datagen.fit(x_train)\n",
        "os.makedirs('images6')\n"
      ],
      "execution_count": 0,
      "outputs": []
    },
    {
      "cell_type": "markdown",
      "metadata": {
        "id": "e2yi2i9sLvBX",
        "colab_type": "text"
      },
      "source": [
        "# Defining Nework Arhitecture Using 3 Neuron Layers (Input and Hidden layers)"
      ]
    },
    {
      "cell_type": "code",
      "metadata": {
        "id": "qrp2gfOv8Cwy",
        "colab_type": "code",
        "colab": {}
      },
      "source": [
        "np.random.seed(1)\n",
        "batch_size = 100\n",
        "def tanh(x):\n",
        "  return np.tanh(x)\n",
        "def tanh2deriv(output):\n",
        "  return 1-(output**2)\n",
        "relu = lambda x:(x>=0)*x\n",
        "relu2deriv = lambda x:x>=0\n",
        "def softmax(x):\n",
        "   temp = np.exp(x)\n",
        "   return temp/np.sum(temp,axis =1,keepdims =True)\n",
        "alpha,iterations,hidden_size, pixels_per_image,num_labels =(0.01,300,300,784,10)\n",
        "weights_0_1 = np.random.randn(pixels_per_image,hidden_size) * np.sqrt(2.0/hidden_size)\n",
        "weights_1_2 = np.random.randn(hidden_size,100)*np.sqrt(2.0/100)\n",
        "weights_2_3 = np.random.randn(100,num_labels)*np.sqrt(2.0/num_labels)\n"
      ],
      "execution_count": 0,
      "outputs": []
    },
    {
      "cell_type": "markdown",
      "metadata": {
        "id": "8zVtteG6L91o",
        "colab_type": "text"
      },
      "source": [
        "# Implementing Minibatch gradient descent along with appropriate learning rate and various dropout rates."
      ]
    },
    {
      "cell_type": "code",
      "metadata": {
        "id": "jn5YE2vH-QUw",
        "colab_type": "code",
        "outputId": "28206387-1281-45d5-cf49-73e21544b85b",
        "colab": {
          "base_uri": "https://localhost:8080/",
          "height": 561
        }
      },
      "source": [
        "for j in range (iterations):\n",
        "  correct_cnt = 0\n",
        "  error =0.0\n",
        "  for i in range(int(len(images)/batch_size)):\n",
        "    batch_start,batch_end = ((i*batch_size),((i+1)*batch_size))\n",
        "    layer_0=images[batch_start:batch_end]\n",
        "    layer_1=tanh(np.dot(layer_0,weights_0_1))\n",
        "    dropout_mask = np.random.randint(2,size=layer_1.shape)\n",
        "    layer_1 *= dropout_mask*2\n",
        "    layer_2 = relu(np.dot(layer_1,weights_1_2))\n",
        "    layer_3 = softmax(np.dot(layer_2,weights_2_3))\n",
        "    error+=np.sum((labels[batch_start:batch_end]-layer_3)**2)\n",
        "   \n",
        "\n",
        "    for k in range (batch_size):\n",
        "      correct_cnt+=int(np.argmax(layer_3[k:k+1])==np.argmax(labels[batch_start+k:batch_start+k+1]))\n",
        "    layer_3_delta = (labels[batch_start:batch_end]-layer_3)/(batch_size * layer_3.shape[0])\n",
        "    layer_2_delta = layer_3_delta.dot(weights_2_3.T)*relu2deriv(layer_2)\n",
        "   \n",
        "    layer_1_delta = layer_2_delta.dot(weights_1_2.T)*relu2deriv(layer_1)\n",
        "    layer_1_delta *= dropout_mask\n",
        "\n",
        "\n",
        "    weights_2_3 += alpha*layer_2.T.dot(layer_3_delta)\n",
        "    weights_1_2 += 0.1*layer_1.T.dot(layer_2_delta)\n",
        "    weights_0_1 += 0.2*layer_0.T.dot(layer_1_delta)\n",
        "  test_correct_cnt = 0\n",
        "  y_pred1=[]\n",
        "  act_labels=[]\n",
        "\n",
        "  for i in range (len(test_images)):\n",
        "    layer_0 = test_images[i:i+1]\n",
        "    layer_1 = tanh(np.dot(layer_0,weights_0_1))\n",
        "    layer_2 = relu(np.dot(layer_1,weights_1_2))\n",
        "    layer_3 = np.dot(layer_2,weights_2_3)\n",
        "    y_pred1 += [int(np.argmax(layer_3))]\n",
        "    act_labels += [np.argmax(test_labels[i:i+1])]\n",
        "    test_correct_cnt += int(np.argmax(layer_3)==np.argmax(test_labels[i:i+1]))\n",
        "   \n",
        "  if (j%10==0 or j==iterations-1):\n",
        "   sys.stdout.write(\"\\n\"+\"I:\"+str(j)+\" Test- Acc:\"+str(test_correct_cnt/float(len(test_images)))+\" Train-Acc:\"+'{:0.6f}'.format(correct_cnt/float(len(images))))\n",
        "  \n",
        "  "
      ],
      "execution_count": 9,
      "outputs": [
        {
          "output_type": "stream",
          "text": [
            "\n",
            "I:0 Test- Acc:0.7109Train-Acc:0.368417\n",
            "I:10 Test- Acc:0.8783Train-Acc:0.799350\n",
            "I:20 Test- Acc:0.8923Train-Acc:0.825667\n",
            "I:30 Test- Acc:0.8948Train-Acc:0.832967\n",
            "I:40 Test- Acc:0.896Train-Acc:0.837483\n",
            "I:50 Test- Acc:0.8995Train-Acc:0.839433\n",
            "I:60 Test- Acc:0.9016Train-Acc:0.842600\n",
            "I:70 Test- Acc:0.9026Train-Acc:0.841883\n",
            "I:80 Test- Acc:0.9015Train-Acc:0.843233\n",
            "I:90 Test- Acc:0.9044Train-Acc:0.845667\n",
            "I:100 Test- Acc:0.9053Train-Acc:0.848267\n",
            "I:110 Test- Acc:0.9062Train-Acc:0.849183\n",
            "I:120 Test- Acc:0.9074Train-Acc:0.850783\n",
            "I:130 Test- Acc:0.9086Train-Acc:0.851483\n",
            "I:140 Test- Acc:0.9107Train-Acc:0.851150\n",
            "I:150 Test- Acc:0.9139Train-Acc:0.853600\n",
            "I:160 Test- Acc:0.9148Train-Acc:0.854100\n",
            "I:170 Test- Acc:0.915Train-Acc:0.854983\n",
            "I:180 Test- Acc:0.9151Train-Acc:0.856050\n",
            "I:190 Test- Acc:0.9165Train-Acc:0.857050\n",
            "I:200 Test- Acc:0.9177Train-Acc:0.857067\n",
            "I:210 Test- Acc:0.9192Train-Acc:0.856850\n",
            "I:220 Test- Acc:0.9193Train-Acc:0.858433\n",
            "I:230 Test- Acc:0.9199Train-Acc:0.857867\n",
            "I:240 Test- Acc:0.9225Train-Acc:0.858550\n",
            "I:250 Test- Acc:0.9222Train-Acc:0.861117\n",
            "I:260 Test- Acc:0.9221Train-Acc:0.860067\n",
            "I:270 Test- Acc:0.9219Train-Acc:0.859817\n",
            "I:280 Test- Acc:0.9229Train-Acc:0.860633\n",
            "I:290 Test- Acc:0.9222Train-Acc:0.861400\n",
            "I:299 Test- Acc:0.9227Train-Acc:0.862983"
          ],
          "name": "stdout"
        }
      ]
    },
    {
      "cell_type": "markdown",
      "metadata": {
        "id": "rvsFYf7QJa0y",
        "colab_type": "text"
      },
      "source": [
        "# Accuracy of Neural Network:\n",
        "Test Accuracy - 92 %, Train Accuracy - 86% with 300 epoch"
      ]
    },
    {
      "cell_type": "code",
      "metadata": {
        "id": "1fV406i6JCbe",
        "colab_type": "code",
        "colab": {
          "base_uri": "https://localhost:8080/",
          "height": 34
        },
        "outputId": "10e51ffd-f1fb-4b4f-91c1-8d472493f630"
      },
      "source": [
        "from sklearn.metrics import confusion_matrix\n",
        "from sklearn.metrics import accuracy_score\n",
        "accuracy_score(act_labels,y_pred1)*100"
      ],
      "execution_count": 11,
      "outputs": [
        {
          "output_type": "execute_result",
          "data": {
            "text/plain": [
              "92.27"
            ]
          },
          "metadata": {
            "tags": []
          },
          "execution_count": 11
        }
      ]
    },
    {
      "cell_type": "markdown",
      "metadata": {
        "id": "U6MTuaKnJQEN",
        "colab_type": "text"
      },
      "source": [
        "# Evaluating The Model with Confusion Matrix"
      ]
    },
    {
      "cell_type": "code",
      "metadata": {
        "id": "2hIbf7R-__1I",
        "colab_type": "code",
        "colab": {
          "base_uri": "https://localhost:8080/",
          "height": 311
        },
        "outputId": "8d5b6e5f-7bbe-42d0-cec2-d41a78b4cab2"
      },
      "source": [
        "\n",
        "\n",
        "# Plotting Confusion Matrics\n",
        "import matplotlib.pyplot as plt\n",
        "import itertools\n",
        "def plot_conf_mat(cm,classes,\n",
        "                  normalize=False,\n",
        "                  title='Confusion-Matrix', \n",
        "                  cmap=plt.cm.Blues):\n",
        "  plt.imshow(cm, interpolation='nearest', cmap=cmap)\n",
        "  plt.title(title)\n",
        "  plt.colorbar()\n",
        "  tick_marks = np.arange(len(classes))\n",
        "  plt.xticks(tick_marks, classes, rotation=45)\n",
        "  plt.yticks(tick_marks, classes)\n",
        "\n",
        "  if normalize:\n",
        "    cm = cm.astype('float') / cm.sum(axis = 1)[:, np.newaxis]\n",
        "\n",
        "  thresh = cm.max() / 2.\n",
        "  for i,j in itertools.product(range(cm.shape[0]),range(cm.shape[1])):\n",
        "      plt.text(j,i, cm[i,j],horizontalalignment=\"center\",color=\"white\" if cm[i,j] > thresh else \"black\")\n",
        "\n",
        "  plt.tight_layout()\n",
        "  plt.ylabel('True label')\n",
        "  plt.xlabel('Predicted label')\n",
        "\n",
        "#Computing-Confusion Matrix\n",
        "conf_mat = confusion_matrix(act_labels, y_pred1)\n",
        "\n",
        "#plotting conf matrix\n",
        "plot_conf_mat(conf_mat, classes = range(10))"
      ],
      "execution_count": 20,
      "outputs": [
        {
          "output_type": "display_data",
          "data": {
            "image/png": "[encoded data removed]",
            "text/plain": [
              "<Figure size 432x288 with 2 Axes>"
            ]
          },
          "metadata": {
            "tags": []
          }
        }
      ]
    }
  ]
}