{
  "nbformat": 4,
  "nbformat_minor": 0,
  "metadata": {
    "colab": {
      "name": "HW1_MNIST_NN.ipynb",
      "provenance": [],
      "toc_visible": true,
      "authorship_tag": "ABX9TyOCeRe3i6D93D76bwRtjm7I",
      "include_colab_link": true
    },
    "kernelspec": {
      "name": "python3",
      "display_name": "Python 3"
    },
    "accelerator": "TPU"
  },
  "cells": [
    {
      "cell_type": "markdown",
      "metadata": {
        "id": "view-in-github",
        "colab_type": "text"
      },
      "source": [
        "<a href=\"https://colab.research.google.com/github/ashaaher/Deep-Learning/blob/master/HW1_MNIST_NN.ipynb\" target=\"_parent\"><img src=\"https://colab.research.google.com/assets/colab-badge.svg\" alt=\"Open In Colab\"/></a>"
      ]
    },
    {
      "cell_type": "markdown",
      "metadata": {
        "id": "ZGlXFlKTLRTn",
        "colab_type": "text"
      },
      "source": [
        "# Importing Libraries\n"
      ]
    },
    {
      "cell_type": "markdown",
      "metadata": {
        "id": "ZenAnuB3LN38",
        "colab_type": "text"
      },
      "source": [
        "import keras\n",
        "import pandas as pd\n",
        "import numpy as np,sys\n",
        "from keras.datasets import mnist\n",
        "import copy\n",
        "from matplotlib import pyplot\n",
        "from keras.preprocessing.image import ImageDataGenerator\n",
        "import os\n",
        "np.random.seed(1)"
      ]
    },
    {
      "cell_type": "code",
      "metadata": {
        "id": "ufRJjG8RLEOH",
        "colab_type": "code",
        "colab": {
          "base_uri": "https://localhost:8080/",
          "height": 80
        },
        "outputId": "13593b3c-8dc3-4020-f279-7b73999985f2"
      },
      "source": [
        "import keras\n",
        "import pandas as pd\n",
        "import numpy as np,sys\n",
        "from keras.datasets import mnist\n",
        "import copy\n",
        "from matplotlib import pyplot\n",
        "from keras.preprocessing.image import ImageDataGenerator\n",
        "import os\n",
        "np.random.seed(1)"
      ],
      "execution_count": 1,
      "outputs": [
        {
          "output_type": "stream",
          "text": [
            "Using TensorFlow backend.\n"
          ],
          "name": "stderr"
        },
        {
          "output_type": "display_data",
          "data": {
            "text/html": [
              "<p style=\"color: red;\">\n",
              "The default version of TensorFlow in Colab will soon switch to TensorFlow 2.x.<br>\n",
              "We recommend you <a href=\"https://www.tensorflow.org/guide/migrate\" target=\"_blank\">upgrade</a> now \n",
              "or ensure your notebook will continue to use TensorFlow 1.x via the <code>%tensorflow_version 1.x</code> magic:\n",
              "<a href=\"https://colab.research.google.com/notebooks/tensorflow_version.ipynb\" target=\"_blank\">more info</a>.</p>\n"
            ],
            "text/plain": [
              "<IPython.core.display.HTML object>"
            ]
          },
          "metadata": {
            "tags": []
          }
        }
      ]
    },
    {
      "cell_type": "markdown",
      "metadata": {
        "id": "Pr-jfxKHLYCK",
        "colab_type": "text"
      },
      "source": [
        "# Loading and Visualization of Dataset"
      ]
    },
    {
      "cell_type": "code",
      "metadata": {
        "id": "iX4jmXa11AYh",
        "colab_type": "code",
        "colab": {
          "base_uri": "https://localhost:8080/",
          "height": 51
        },
        "outputId": "2b9d256e-b6c7-42dc-cc63-3f7a73e3e1ee"
      },
      "source": [
        "from keras.datasets import mnist\n",
        "(x_train_label,y_train_label),(x_test_label,y_test_label)=mnist.load_data()\n",
        "for i in range(0, 9):\n",
        "\tpyplot.subplot(330 + 1 + i)\n",
        "\tpyplot.imshow(x_train[i], cmap=pyplot.get_cmap('gray'))"
      ],
      "execution_count": 2,
      "outputs": [
        {
          "output_type": "stream",
          "text": [
            "Downloading data from https://s3.amazonaws.com/img-datasets/mnist.npz\n",
            "11493376/11490434 [==============================] - 0s 0us/step\n"
          ],
          "name": "stdout"
        }
      ]
    },
    {
      "cell_type": "markdown",
      "metadata": {
        "id": "WOJx7rOoLeDy",
        "colab_type": "text"
      },
      "source": [
        "# Normalizing the inputs"
      ]
    },
    {
      "cell_type": "code",
      "metadata": {
        "id": "n5b18ZDj09Qv",
        "colab_type": "code",
        "colab": {}
      },
      "source": [
        "images,labels = (x_train_label.reshape(len(x_train_label), 28*28)/255,y_train_label)"
      ],
      "execution_count": 0,
      "outputs": []
    },
    {
      "cell_type": "markdown",
      "metadata": {
        "id": "5xQPmJgoLmu8",
        "colab_type": "text"
      },
      "source": [
        "# One hot encoding"
      ]
    },
    {
      "cell_type": "code",
      "metadata": {
        "id": "DK3VSOy83MXz",
        "colab_type": "code",
        "colab": {}
      },
      "source": [
        "one_hot_labels = np.zeros((len(labels),10))"
      ],
      "execution_count": 0,
      "outputs": []
    },
    {
      "cell_type": "code",
      "metadata": {
        "id": "garYKpLm3ePm",
        "colab_type": "code",
        "colab": {}
      },
      "source": [
        "for i, l in enumerate(labels):\n",
        "  one_hot_labels[i][l] = 1\n",
        "labels =one_hot_labels"
      ],
      "execution_count": 0,
      "outputs": []
    },
    {
      "cell_type": "code",
      "metadata": {
        "id": "LYP9fJTW7XL0",
        "colab_type": "code",
        "colab": {}
      },
      "source": [
        "test_images = x_test_label.reshape(len(x_test_label),28*28)/255\n",
        "test_labels = np.zeros((len(y_test_label),10))\n",
        "for i,l in enumerate(y_test_label):\n",
        "    test_labels[i][l] =1"
      ],
      "execution_count": 0,
      "outputs": []
    },
    {
      "cell_type": "markdown",
      "metadata": {
        "id": "dDTyIZPRLqtW",
        "colab_type": "text"
      },
      "source": [
        "# Image augmentation"
      ]
    },
    {
      "cell_type": "code",
      "metadata": {
        "id": "eVf5Qyxu0fks",
        "colab_type": "code",
        "colab": {}
      },
      "source": [
        "x_train_label = x_train_label.reshape((x_train_label.shape[0], 28, 28, 1))\n",
        "x_test_label = x_test_label.reshape((x_test_label.shape[0], 28, 28, 1))\n",
        "# convert from int to float\n",
        "x_train_label = x_train_label.astype('float32')\n",
        "x_test_label = x_test_label.astype('float32')\n",
        "# define data preparation\n",
        "datagen = ImageDataGenerator()\n",
        "# fit parameters from data\n",
        "datagen.fit(x_train_label)\n",
        "# configure batch size and retrieve one batch of images\n",
        "os.makedirs('images2')"
      ],
      "execution_count": 0,
      "outputs": []
    },
    {
      "cell_type": "markdown",
      "metadata": {
        "id": "e2yi2i9sLvBX",
        "colab_type": "text"
      },
      "source": [
        "# Using 3 Neuron Layers (Input and Hidden layers)"
      ]
    },
    {
      "cell_type": "code",
      "metadata": {
        "id": "qrp2gfOv8Cwy",
        "colab_type": "code",
        "colab": {}
      },
      "source": [
        "np.random.seed(1)\n",
        "batch_size = 100\n",
        "relu = lambda x:(x>=0)*x\n",
        "relu2deriv = lambda x:x >=0\n",
        "def softmax(x):\n",
        "   temp = np.exp(x)\n",
        "   return temp/np.sum(temp,axis =1,keepdims =True)\n",
        "alpha,iterations,hidden_size, pixel_per_image,num_labels =(0.01,300,400,784,10)\n",
        "weights_0_1 = np.random.randn(pixel_per_image,hidden_size) * np.sqrt(2.0/hidden_size)\n",
        "weights_1_2 =np.random.randn(hidden_size,400) * np.sqrt(2.0/400)\n",
        "weights_2_3 =np.random.randn(400,num_labels) * np.sqrt(2.0/num_labels)"
      ],
      "execution_count": 0,
      "outputs": []
    },
    {
      "cell_type": "markdown",
      "metadata": {
        "id": "8zVtteG6L91o",
        "colab_type": "text"
      },
      "source": [
        "# Implementing Minibatch gradient descent along with appropriate learning rate and various dropout rates."
      ]
    },
    {
      "cell_type": "code",
      "metadata": {
        "id": "jn5YE2vH-QUw",
        "colab_type": "code",
        "colab": {}
      },
      "source": [
        "\n",
        "for j in range (iterations):\n",
        "  correct_cnt = 0\n",
        "  error =0.0\n",
        "  for i in range(int(len(images)/batch_size)):\n",
        "    batch_start,batch_end = ((i*batch_size),((i+1)*batch_size))\n",
        "    layer_0=images[batch_start:batch_end]\n",
        "    layer_1=relu(np.dot(layer_0,weights_0_1))\n",
        "    dropout_mask = np.random.randint(2,size=layer_1.shape)\n",
        "    layer_1 *= dropout_mask * 2\n",
        "    layer_2=relu(np.dot(layer_1,weights_1_2))\n",
        "    dropout_mask = np.random.randint(2,size=layer_2.shape)\n",
        "    layer_2 *= dropout_mask * 2\n",
        "    layer_3=softmax(np.dot(layer_2,weights_2_3))\n",
        "    error+=np.sum((labels[batch_start:batch_end]-layer_3)** 2)\n",
        "\n",
        "    for k in range (batch_size):\n",
        "      correct_cnt += int(np.argmax(layer_3[k:k+1])==np.argmax(labels[batch_start+k:batch_start+k+1]))\n",
        "    layer_3_delta = (labels[batch_start:batch_end]-layer_3) / (batch_size * layer_3.shape[0])\n",
        "    layer_2_delta = layer_3_delta.dot(weights_2_3.T)*relu2deriv(layer_2)\n",
        "    layer_2_delta *= dropout_mask\n",
        "    layer_1_delta = layer_2_delta.dot(weights_1_2.T)*relu2deriv(layer_1)\n",
        "    layer_1_delta *= dropout_mask\n",
        "\n",
        "    weights_2_3 += alpha * layer_2.T.dot(layer_3_delta)\n",
        "    weights_1_2 += alpha * layer_1.T.dot(layer_2_delta)\n",
        "    weights_0_1 += alpha * layer_0.T.dot(layer_1_delta)\n",
        "test_correct_cnt = 0\n",
        "\n",
        "for i in range (len(test_images)):\n",
        "  layer_0 = test_images[i:i+1]\n",
        "  layer_1 = relu(np.dot(layer_0,weights_0_1))\n",
        "  layer_2 = relu(np.dot(layer_1,weights_1_2))\n",
        "  layer_3 = np.dot(layer_2,weights_2_3)\n",
        "  test_correct_cnt += int(np.argmax(layer_2)==np.argmax(test_labels[i:i+1]))\n",
        "\n",
        "if(j % 10 ==0):\n",
        "  sys.stdout.write(\"\\n\"+ \"I:\" + str(j) + \"Test-Acc:\" + str(test_correct_cnt/float(len(test_images))) + \" Train-Acc:\" + str(correct_cnt/float(len(images))))\n",
        "\n"
      ],
      "execution_count": 0,
      "outputs": []
    },
    {
      "cell_type": "markdown",
      "metadata": {
        "id": "ewOGujycNIZR",
        "colab_type": "text"
      },
      "source": [
        "# confusion matrix"
      ]
    },
    {
      "cell_type": "code",
      "metadata": {
        "id": "zIUeN68sEYkm",
        "colab_type": "code",
        "colab": {}
      },
      "source": [
        "[x_train_label,y_train_label] = digitTrain4DArrayData;\n",
        "whos y_train_label"
      ],
      "execution_count": 0,
      "outputs": []
    },
    {
      "cell_type": "code",
      "metadata": {
        "id": "vDUa0tZAQli_",
        "colab_type": "code",
        "colab": {}
      },
      "source": [
        "layers = [\n",
        "    imageInputLayer([28 28 1])\n",
        "    \n",
        "    NN2dLayer(3,8,'Padding','same')\n",
        "    batchNormalizationLayer\n",
        "    reluLayer    \n",
        "    NN2dLayer(3,16,'Padding','same','Stride',2)\n",
        "    batchNormalizationLayer\n",
        "    reluLayer\n",
        "    NN2dLayer(3,32,'Padding','same','Stride',2)\n",
        "    batchNormalizationLayer\n",
        "    reluLayer\n",
        "    \n",
        "    fullyConnectedLayer(10)\n",
        "    softmaxLayer\n",
        "    classificationLayer];"
      ],
      "execution_count": 0,
      "outputs": []
    },
    {
      "cell_type": "code",
      "metadata": {
        "id": "JHQTzRZgRMLL",
        "colab_type": "code",
        "colab": {}
      },
      "source": [
        "options = trainingOptions('sgdm',...\n",
        "    'MaxEpochs',5,...\n",
        "    'Verbose',false,...\n",
        "    'Plots','training-progress');\n",
        "net = trainNetwork(x_train_label,y_train_label,layers,options);"
      ],
      "execution_count": 0,
      "outputs": []
    },
    {
      "cell_type": "code",
      "metadata": {
        "id": "Sq5griOaRXoQ",
        "colab_type": "code",
        "colab": {}
      },
      "source": [
        "[x_test_label,y_test_label] = digitTest4DArrayData;\n",
        "y_Predicted = classify(net,x_test_label);"
      ],
      "execution_count": 0,
      "outputs": []
    },
    {
      "cell_type": "code",
      "metadata": {
        "id": "8589Y8RsRhId",
        "colab_type": "code",
        "colab": {}
      },
      "source": [
        "plotconfusion(y_test_label,y_Predicted)"
      ],
      "execution_count": 0,
      "outputs": []
    }
  ]
}