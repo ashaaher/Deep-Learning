{
  "nbformat": 4,
  "nbformat_minor": 0,
  "metadata": {
    "colab": {
      "name": "HW1_MNIST_NN.ipynb",
      "provenance": [],
      "toc_visible": true,
      "authorship_tag": "ABX9TyOjd8/Irn4/8MwC43I28+TX",
      "include_colab_link": true
    },
    "kernelspec": {
      "name": "python3",
      "display_name": "Python 3"
    },
    "accelerator": "GPU"
  },
  "cells": [
    {
      "cell_type": "markdown",
      "metadata": {
        "id": "view-in-github",
        "colab_type": "text"
      },
      "source": [
        "<a href=\"https://colab.research.google.com/github/ashaaher/Deep-Learning/blob/master/HW1_MNIST_NN.ipynb\" target=\"_parent\"><img src=\"https://colab.research.google.com/assets/colab-badge.svg\" alt=\"Open In Colab\"/></a>"
      ]
    },
    {
      "cell_type": "markdown",
      "metadata": {
        "id": "ZGlXFlKTLRTn",
        "colab_type": "text"
      },
      "source": [
        "# Importing Libraries\n"
      ]
    },
    {
      "cell_type": "markdown",
      "metadata": {
        "id": "ZenAnuB3LN38",
        "colab_type": "text"
      },
      "source": [
        "import keras\n",
        "import pandas as pd\n",
        "import numpy as np,sys\n",
        "from keras.datasets import mnist\n",
        "import copy\n",
        "from matplotlib import pyplot\n",
        "from keras.preprocessing.image import ImageDataGenerator\n",
        "import os\n",
        "np.random.seed(1)"
      ]
    },
    {
      "cell_type": "code",
      "metadata": {
        "id": "ufRJjG8RLEOH",
        "colab_type": "code",
        "colab": {}
      },
      "source": [
        "import keras\n",
        "import pandas as pd\n",
        "import numpy as np,sys\n",
        "from keras.datasets import mnist\n",
        "import copy\n",
        "from matplotlib import pyplot\n",
        "from keras.preprocessing.image import ImageDataGenerator\n",
        "import os\n",
        "np.random.seed(1)"
      ],
      "execution_count": 0,
      "outputs": []
    },
    {
      "cell_type": "markdown",
      "metadata": {
        "id": "Pr-jfxKHLYCK",
        "colab_type": "text"
      },
      "source": [
        "# Loading and Visualization of Dataset"
      ]
    },
    {
      "cell_type": "code",
      "metadata": {
        "id": "iX4jmXa11AYh",
        "colab_type": "code",
        "outputId": "7729fdc1-5e6e-466f-a3fa-104146d51316",
        "colab": {
          "base_uri": "https://localhost:8080/",
          "height": 268
        }
      },
      "source": [
        "from keras.datasets import mnist\n",
        "(x_train,y_train),(x_test,y_test)=mnist.load_data()\n",
        "for i in range(0, 9):\n",
        "\tpyplot.subplot(330 + 1 + i)\n",
        "\tpyplot.imshow(x_train[i], cmap=pyplot.get_cmap('gray'))"
      ],
      "execution_count": 65,
      "outputs": [
        {
          "output_type": "display_data",
          "data": {
            "image/png": "[encoded data removed]",
            "text/plain": [
              "<Figure size 432x288 with 9 Axes>"
            ]
          },
          "metadata": {
            "tags": []
          }
        }
      ]
    },
    {
      "cell_type": "markdown",
      "metadata": {
        "id": "WOJx7rOoLeDy",
        "colab_type": "text"
      },
      "source": [
        "# Normalizing the inputs"
      ]
    },
    {
      "cell_type": "code",
      "metadata": {
        "id": "n5b18ZDj09Qv",
        "colab_type": "code",
        "colab": {}
      },
      "source": [
        "images,labels = (x_train.reshape(len(x_train), 28*28)/255,y_train)"
      ],
      "execution_count": 0,
      "outputs": []
    },
    {
      "cell_type": "markdown",
      "metadata": {
        "id": "5xQPmJgoLmu8",
        "colab_type": "text"
      },
      "source": [
        "# One hot encoding"
      ]
    },
    {
      "cell_type": "code",
      "metadata": {
        "id": "DK3VSOy83MXz",
        "colab_type": "code",
        "colab": {}
      },
      "source": [
        "one_hot_labels = np.zeros((len(labels),10))"
      ],
      "execution_count": 0,
      "outputs": []
    },
    {
      "cell_type": "code",
      "metadata": {
        "id": "garYKpLm3ePm",
        "colab_type": "code",
        "colab": {}
      },
      "source": [
        "for i, l in enumerate(labels):\n",
        "  one_hot_labels[i][l] = 1\n",
        "labels =one_hot_labels"
      ],
      "execution_count": 0,
      "outputs": []
    },
    {
      "cell_type": "code",
      "metadata": {
        "id": "LYP9fJTW7XL0",
        "colab_type": "code",
        "colab": {}
      },
      "source": [
        "test_images = x_test.reshape(len(x_test),28*28)/255\n",
        "test_labels = np.zeros((len(y_test),10))\n",
        "for i,l in enumerate(y_test):\n",
        "    test_labels[i][l] =1"
      ],
      "execution_count": 0,
      "outputs": []
    },
    {
      "cell_type": "markdown",
      "metadata": {
        "id": "dDTyIZPRLqtW",
        "colab_type": "text"
      },
      "source": [
        "# Image augmentation"
      ]
    },
    {
      "cell_type": "code",
      "metadata": {
        "id": "eVf5Qyxu0fks",
        "colab_type": "code",
        "colab": {}
      },
      "source": [
        "\n",
        "x_train = x_train.reshape((x_train.shape[0], 28, 28, 1))\n",
        "x_test = x_test.reshape((x_test.shape[0], 28, 28, 1))\n",
        "# convert from int to float\n",
        "x_train = x_train.astype('float32')\n",
        "x_test = x_test.astype('float32')\n",
        "# define data preparation\n",
        "datagen = ImageDataGenerator()\n",
        "# fit parameters from data\n",
        "datagen.fit(x_train)\n",
        "# configure batch size and retrieve one batch of images\n",
        "os.makedirs('images6')\n"
      ],
      "execution_count": 0,
      "outputs": []
    },
    {
      "cell_type": "markdown",
      "metadata": {
        "id": "e2yi2i9sLvBX",
        "colab_type": "text"
      },
      "source": [
        "# Using 3 Neuron Layers (Input and Hidden layers)"
      ]
    },
    {
      "cell_type": "code",
      "metadata": {
        "id": "qrp2gfOv8Cwy",
        "colab_type": "code",
        "colab": {}
      },
      "source": [
        "np.random.seed(1)\n",
        "batch_size = 3\n",
        "relu = lambda x:(x>=0)*x\n",
        "relu2deriv = lambda x:x>=0\n",
        "def softmax(x):\n",
        "   temp = np.exp(x)\n",
        "   return temp/np.sum(temp,axis =1,keepdims =True)\n",
        "alpha,iterations,hidden_size, pixels_per_image,num_labels =(0.001,10,100,784,10)\n",
        "weights_0_1 = np.random.randn(pixels_per_image,hidden_size) * np.sqrt(2.0/hidden_size)\n",
        "weights_1_2 = np.random.randn(hidden_size,100)*np.sqrt(2.0/100)\n",
        "weights_2_3 = np.random.randn(100,num_labels)*np.sqrt(2.0/num_labels)\n"
      ],
      "execution_count": 0,
      "outputs": []
    },
    {
      "cell_type": "markdown",
      "metadata": {
        "id": "8zVtteG6L91o",
        "colab_type": "text"
      },
      "source": [
        "# Implementing Minibatch gradient descent along with appropriate learning rate and various dropout rates."
      ]
    },
    {
      "cell_type": "code",
      "metadata": {
        "id": "jn5YE2vH-QUw",
        "colab_type": "code",
        "outputId": "4c7a3962-17ef-4938-876d-0b661f31803f",
        "colab": {
          "base_uri": "https://localhost:8080/",
          "height": 255
        }
      },
      "source": [
        "for j in range (iterations):\n",
        "  correct_cnt = 0\n",
        "  error =0.0\n",
        "  for i in range(int(len(images)/batch_size)):\n",
        "    batch_start,batch_end = ((i*batch_size),((i+1)*batch_size))\n",
        "    layer_0=images[batch_start:batch_end]\n",
        "    layer_1=relu(np.dot(layer_0,weights_0_1))\n",
        "    dropout_mask = np.random.randint(2,size=layer_1.shape)\n",
        "    layer_1 *= dropout_mask*2\n",
        "    layer_2 = relu(np.dot(layer_1,weights_1_2))\n",
        "    dropout_mask = np.random.randint(2,size=layer_2.shape)\n",
        "    layer_2 *= dropout_mask * 2\n",
        "    layer_3 = softmax(np.dot(layer_2,weights_2_3))\n",
        "    error+=np.sum((labels[batch_start:batch_end]-layer_3)**2)\n",
        "    #print(\"Finished 1st for\")\n",
        "\n",
        "    for k in range (batch_size):\n",
        "      correct_cnt+=int(np.argmax(layer_3[k:k+1])==np.argmax(labels[batch_start+k:batch_start+k+1]))\n",
        "    layer_3_delta = (labels[batch_start:batch_end]-layer_3)/(batch_size * layer_3.shape[0])\n",
        "    layer_2_delta = layer_3_delta.dot(weights_2_3.T)*relu2deriv(layer_2)\n",
        "    #layer_2_delta *= dropout_mask\n",
        "    layer_1_delta = layer_2_delta.dot(weights_1_2.T)*relu2deriv(layer_1)\n",
        "    layer_1_delta *= dropout_mask\n",
        "    #print(\"finished second for loop\")\n",
        "\n",
        "    weights_2_3 += alpha*layer_2.T.dot(layer_3_delta)\n",
        "    weights_1_2 += alpha*layer_1.T.dot(layer_2_delta)\n",
        "    weights_0_1 += alpha*layer_0.T.dot(layer_1_delta)\n",
        "  test_correct_cnt = 0\n",
        "\n",
        "  for i in range (len(test_images)):\n",
        "    layer_0 = test_images[i:i+1]\n",
        "    layer_1 = relu(np.dot(layer_0,weights_0_1))\n",
        "    layer_2 = relu(np.dot(layer_1,weights_1_2))\n",
        "    layer_3 = np.dot(layer_2,weights_2_3)\n",
        "    test_correct_cnt += int(np.argmax(layer_2)==np.argmax(test_labels[i:i+1]))\n",
        "   \n",
        "  if (j%10==0 or j==iterations-1):\n",
        "   \n",
        "  \n",
        "    print(\"I\"+str(j))\n",
        "    print(\"Test-Acc:\" + str(test_correct_cnt/float(len(test_images))))\n",
        "    print(\" Train-Acc:\" + str(correct_cnt/float(len(images))))\n",
        "    print(\"shape\",test_labels.shape)\n",
        "    print(\"shape\",layer_3.shape)\n",
        "    #print(\"Error \"+str(error/float(len(test_images)))[0:5])\n"
      ],
      "execution_count": 74,
      "outputs": [
        {
          "output_type": "stream",
          "text": [
            "/usr/local/lib/python3.6/dist-packages/ipykernel_launcher.py:3: RuntimeWarning: invalid value encountered in greater_equal\n",
            "  This is separate from the ipykernel package so we can avoid doing imports until\n",
            "/usr/local/lib/python3.6/dist-packages/ipykernel_launcher.py:4: RuntimeWarning: invalid value encountered in greater_equal\n",
            "  after removing the cwd from sys.path.\n"
          ],
          "name": "stderr"
        },
        {
          "output_type": "stream",
          "text": [
            "I0\n",
            "Test-Acc:0.098\n",
            " Train-Acc:0.09871666666666666\n",
            "shape (10000, 10)\n",
            "shape (1, 10)\n",
            "I9\n",
            "Test-Acc:0.098\n",
            " Train-Acc:0.09871666666666666\n",
            "shape (10000, 10)\n",
            "shape (1, 10)\n"
          ],
          "name": "stdout"
        }
      ]
    },
    {
      "cell_type": "code",
      "metadata": {
        "id": "2hIbf7R-__1I",
        "colab_type": "code",
        "colab": {}
      },
      "source": [
        ""
      ],
      "execution_count": 0,
      "outputs": []
    }
  ]
}