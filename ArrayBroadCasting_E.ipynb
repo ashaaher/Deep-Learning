{
  "nbformat": 4,
  "nbformat_minor": 0,
  "metadata": {
    "colab": {
      "name": "ArrayBroadCasting_E.ipynb",
      "provenance": [],
      "authorship_tag": "ABX9TyNWIPGdUX7s4FfoAw1cNAHM",
      "include_colab_link": true
    },
    "kernelspec": {
      "name": "python3",
      "display_name": "Python 3"
    }
  },
  "cells": [
    {
      "cell_type": "markdown",
      "metadata": {
        "id": "view-in-github",
        "colab_type": "text"
      },
      "source": [
        "<a href=\"https://colab.research.google.com/github/ashaaher/Deep-Learning/blob/master/ArrayBroadCasting_E.ipynb\" target=\"_parent\"><img src=\"https://colab.research.google.com/assets/colab-badge.svg\" alt=\"Open In Colab\"/></a>"
      ]
    },
    {
      "cell_type": "code",
      "metadata": {
        "id": "4YwDOMW1Fjyb",
        "colab_type": "code",
        "colab": {}
      },
      "source": [
        "import numpy as np\n"
      ],
      "execution_count": 0,
      "outputs": []
    },
    {
      "cell_type": "code",
      "metadata": {
        "id": "qfU5CbscFzek",
        "colab_type": "code",
        "outputId": "bff29501-4496-4343-e39c-85c6d640a2c9",
        "colab": {
          "base_uri": "https://localhost:8080/",
          "height": 34
        }
      },
      "source": [
        "a = np.array([0, 1, 2])\n",
        "b = np.array([5, 5, 5])\n",
        "a + b"
      ],
      "execution_count": 0,
      "outputs": [
        {
          "output_type": "execute_result",
          "data": {
            "text/plain": [
              "array([5, 6, 7])"
            ]
          },
          "metadata": {
            "tags": []
          },
          "execution_count": 2
        }
      ]
    },
    {
      "cell_type": "code",
      "metadata": {
        "id": "U1-XcShiF475",
        "colab_type": "code",
        "outputId": "83d4ff3f-0c9b-495f-d948-a9f78dc2b86e",
        "colab": {
          "base_uri": "https://localhost:8080/",
          "height": 34
        }
      },
      "source": [
        "a + 5"
      ],
      "execution_count": 0,
      "outputs": [
        {
          "output_type": "execute_result",
          "data": {
            "text/plain": [
              "array([5, 6, 7])"
            ]
          },
          "metadata": {
            "tags": []
          },
          "execution_count": 3
        }
      ]
    },
    {
      "cell_type": "code",
      "metadata": {
        "id": "v7hzk2scF7fR",
        "colab_type": "code",
        "outputId": "f3b5a736-7319-46f7-850b-63f6c57ca1dc",
        "colab": {
          "base_uri": "https://localhost:8080/",
          "height": 68
        }
      },
      "source": [
        "N = np.ones((3, 3))\n",
        "N"
      ],
      "execution_count": 0,
      "outputs": [
        {
          "output_type": "execute_result",
          "data": {
            "text/plain": [
              "array([[1., 1., 1.],\n",
              "       [1., 1., 1.],\n",
              "       [1., 1., 1.]])"
            ]
          },
          "metadata": {
            "tags": []
          },
          "execution_count": 4
        }
      ]
    },
    {
      "cell_type": "code",
      "metadata": {
        "id": "HXh-uTJaGBKH",
        "colab_type": "code",
        "outputId": "8b99d46a-3938-4623-867c-44b5b18b2154",
        "colab": {
          "base_uri": "https://localhost:8080/",
          "height": 68
        }
      },
      "source": [
        "N + a"
      ],
      "execution_count": 0,
      "outputs": [
        {
          "output_type": "execute_result",
          "data": {
            "text/plain": [
              "array([[1., 2., 3.],\n",
              "       [1., 2., 3.],\n",
              "       [1., 2., 3.]])"
            ]
          },
          "metadata": {
            "tags": []
          },
          "execution_count": 6
        }
      ]
    },
    {
      "cell_type": "code",
      "metadata": {
        "id": "lSlxal6PGGMX",
        "colab_type": "code",
        "outputId": "5efce05c-0397-4416-884f-db0472630d95",
        "colab": {
          "base_uri": "https://localhost:8080/",
          "height": 85
        }
      },
      "source": [
        "a = np.arange(3)\n",
        "b = np.arange(3)[:, np.newaxis]\n",
        "\n",
        "print(a)\n",
        "print(b)"
      ],
      "execution_count": 0,
      "outputs": [
        {
          "output_type": "stream",
          "text": [
            "[0 1 2]\n",
            "[[0]\n",
            " [1]\n",
            " [2]]\n"
          ],
          "name": "stdout"
        }
      ]
    },
    {
      "cell_type": "code",
      "metadata": {
        "id": "-Xwd4YNdGM-V",
        "colab_type": "code",
        "outputId": "2e0e4196-709d-4d22-d0c5-552af9f0e1e2",
        "colab": {
          "base_uri": "https://localhost:8080/",
          "height": 68
        }
      },
      "source": [
        "a + b"
      ],
      "execution_count": 0,
      "outputs": [
        {
          "output_type": "execute_result",
          "data": {
            "text/plain": [
              "array([[0, 1, 2],\n",
              "       [1, 2, 3],\n",
              "       [2, 3, 4]])"
            ]
          },
          "metadata": {
            "tags": []
          },
          "execution_count": 8
        }
      ]
    },
    {
      "cell_type": "code",
      "metadata": {
        "id": "_jmAXSYzGQIm",
        "colab_type": "code",
        "outputId": "1049052d-2a3c-4be6-d00a-66ad40bbe466",
        "colab": {
          "base_uri": "https://localhost:8080/",
          "height": 355
        }
      },
      "source": [
        "# Adapted from astroML: see http://www.astroml.org/book_figures/appendix/fig_broadcast_visual.html\n",
        "import numpy as np\n",
        "from matplotlib import pyplot as plt\n",
        "\n",
        "#------------------------------------------------------------\n",
        "# Draw a figure and axis with no boundary\n",
        "fig = plt.figure(figsize=(6, 4.5), facecolor='w')\n",
        "ax = plt.axes([0, 0, 1, 1], xticks=[], yticks=[], frameon=False)\n",
        "\n",
        "\n",
        "def draw_cube(ax, xy, size, depth=0.4,\n",
        "              edges=None, label=None, label_kwargs=None, **kwargs):\n",
        "    \"\"\"draw and label a cube.  edges is a list of numbers between\n",
        "    1 and 12, specifying which of the 12 cube edges to draw\"\"\"\n",
        "    if edges is None:\n",
        "        edges = range(1, 13)\n",
        "\n",
        "    x, y = xy\n",
        "\n",
        "    if 1 in edges:\n",
        "        ax.plot([x, x + size],\n",
        "                [y + size, y + size], **kwargs)\n",
        "    if 2 in edges:\n",
        "        ax.plot([x + size, x + size],\n",
        "                [y, y + size], **kwargs)\n",
        "    if 3 in edges:\n",
        "        ax.plot([x, x + size],\n",
        "                [y, y], **kwargs)\n",
        "    if 4 in edges:\n",
        "        ax.plot([x, x],\n",
        "                [y, y + size], **kwargs)\n",
        "\n",
        "    if 5 in edges:\n",
        "        ax.plot([x, x + depth],\n",
        "                [y + size, y + depth + size], **kwargs)\n",
        "    if 6 in edges:\n",
        "        ax.plot([x + size, x + size + depth],\n",
        "                [y + size, y + depth + size], **kwargs)\n",
        "    if 7 in edges:\n",
        "        ax.plot([x + size, x + size + depth],\n",
        "                [y, y + depth], **kwargs)\n",
        "    if 8 in edges:\n",
        "        ax.plot([x, x + depth],\n",
        "                [y, y + depth], **kwargs)\n",
        "\n",
        "    if 9 in edges:\n",
        "        ax.plot([x + depth, x + depth + size],\n",
        "                [y + depth + size, y + depth + size], **kwargs)\n",
        "    if 10 in edges:\n",
        "        ax.plot([x + depth + size, x + depth + size],\n",
        "                [y + depth, y + depth + size], **kwargs)\n",
        "    if 11 in edges:\n",
        "        ax.plot([x + depth, x + depth + size],\n",
        "                [y + depth, y + depth], **kwargs)\n",
        "    if 12 in edges:\n",
        "        ax.plot([x + depth, x + depth],\n",
        "                [y + depth, y + depth + size], **kwargs)\n",
        "\n",
        "    if label:\n",
        "        if label_kwargs is None:\n",
        "            label_kwargs = {}\n",
        "        ax.text(x + 0.5 * size, y + 0.5 * size, label,\n",
        "                ha='center', va='center', **label_kwargs)\n",
        "\n",
        "solid = dict(c='black', ls='-', lw=1,\n",
        "             label_kwargs=dict(color='k'))\n",
        "dotted = dict(c='black', ls='-', lw=0.5, alpha=0.5,\n",
        "              label_kwargs=dict(color='gray'))\n",
        "depth = 0.3\n",
        "\n",
        "#------------------------------------------------------------\n",
        "# Draw top operation: vector plus scalar\n",
        "draw_cube(ax, (1, 10), 1, depth, [1, 2, 3, 4, 5, 6, 9], '0', **solid)\n",
        "draw_cube(ax, (2, 10), 1, depth, [1, 2, 3, 6, 9], '1', **solid)\n",
        "draw_cube(ax, (3, 10), 1, depth, [1, 2, 3, 6, 7, 9, 10], '2', **solid)\n",
        "\n",
        "draw_cube(ax, (6, 10), 1, depth, [1, 2, 3, 4, 5, 6, 7, 9, 10], '5', **solid)\n",
        "draw_cube(ax, (7, 10), 1, depth, [1, 2, 3, 6, 7, 9, 10, 11], '5', **dotted)\n",
        "draw_cube(ax, (8, 10), 1, depth, [1, 2, 3, 6, 7, 9, 10, 11], '5', **dotted)\n",
        "\n",
        "draw_cube(ax, (12, 10), 1, depth, [1, 2, 3, 4, 5, 6, 9], '5', **solid)\n",
        "draw_cube(ax, (13, 10), 1, depth, [1, 2, 3, 6, 9], '6', **solid)\n",
        "draw_cube(ax, (14, 10), 1, depth, [1, 2, 3, 6, 7, 9, 10], '7', **solid)\n",
        "\n",
        "ax.text(5, 10.5, '+', size=12, ha='center', va='center')\n",
        "ax.text(10.5, 10.5, '=', size=12, ha='center', va='center')\n",
        "ax.text(1, 11.5, r'${\\tt np.arange(3) + 5}$',\n",
        "        size=12, ha='left', va='bottom')\n",
        "\n",
        "#------------------------------------------------------------\n",
        "# Draw middle operation: matrix plus vector\n",
        "\n",
        "# first block\n",
        "draw_cube(ax, (1, 7.5), 1, depth, [1, 2, 3, 4, 5, 6, 9], '1', **solid)\n",
        "draw_cube(ax, (2, 7.5), 1, depth, [1, 2, 3, 6, 9], '1', **solid)\n",
        "draw_cube(ax, (3, 7.5), 1, depth, [1, 2, 3, 6, 7, 9, 10], '1', **solid)\n",
        "\n",
        "draw_cube(ax, (1, 6.5), 1, depth, [2, 3, 4], '1', **solid)\n",
        "draw_cube(ax, (2, 6.5), 1, depth, [2, 3], '1', **solid)\n",
        "draw_cube(ax, (3, 6.5), 1, depth, [2, 3, 7, 10], '1', **solid)\n",
        "\n",
        "draw_cube(ax, (1, 5.5), 1, depth, [2, 3, 4], '1', **solid)\n",
        "draw_cube(ax, (2, 5.5), 1, depth, [2, 3], '1', **solid)\n",
        "draw_cube(ax, (3, 5.5), 1, depth, [2, 3, 7, 10], '1', **solid)\n",
        "\n",
        "# second block\n",
        "draw_cube(ax, (6, 7.5), 1, depth, [1, 2, 3, 4, 5, 6, 9], '0', **solid)\n",
        "draw_cube(ax, (7, 7.5), 1, depth, [1, 2, 3, 6, 9], '1', **solid)\n",
        "draw_cube(ax, (8, 7.5), 1, depth, [1, 2, 3, 6, 7, 9, 10], '2', **solid)\n",
        "\n",
        "draw_cube(ax, (6, 6.5), 1, depth, range(2, 13), '0', **dotted)\n",
        "draw_cube(ax, (7, 6.5), 1, depth, [2, 3, 6, 7, 9, 10, 11], '1', **dotted)\n",
        "draw_cube(ax, (8, 6.5), 1, depth, [2, 3, 6, 7, 9, 10, 11], '2', **dotted)\n",
        "\n",
        "draw_cube(ax, (6, 5.5), 1, depth, [2, 3, 4, 7, 8, 10, 11, 12], '0', **dotted)\n",
        "draw_cube(ax, (7, 5.5), 1, depth, [2, 3, 7, 10, 11], '1', **dotted)\n",
        "draw_cube(ax, (8, 5.5), 1, depth, [2, 3, 7, 10, 11], '2', **dotted)\n",
        "\n",
        "# third block\n",
        "draw_cube(ax, (12, 7.5), 1, depth, [1, 2, 3, 4, 5, 6, 9], '1', **solid)\n",
        "draw_cube(ax, (13, 7.5), 1, depth, [1, 2, 3, 6, 9], '2', **solid)\n",
        "draw_cube(ax, (14, 7.5), 1, depth, [1, 2, 3, 6, 7, 9, 10], '3', **solid)\n",
        "\n",
        "draw_cube(ax, (12, 6.5), 1, depth, [2, 3, 4], '1', **solid)\n",
        "draw_cube(ax, (13, 6.5), 1, depth, [2, 3], '2', **solid)\n",
        "draw_cube(ax, (14, 6.5), 1, depth, [2, 3, 7, 10], '3', **solid)\n",
        "\n",
        "draw_cube(ax, (12, 5.5), 1, depth, [2, 3, 4], '1', **solid)\n",
        "draw_cube(ax, (13, 5.5), 1, depth, [2, 3], '2', **solid)\n",
        "draw_cube(ax, (14, 5.5), 1, depth, [2, 3, 7, 10], '3', **solid)\n",
        "\n",
        "ax.text(5, 7.0, '+', size=12, ha='center', va='center')\n",
        "ax.text(10.5, 7.0, '=', size=12, ha='center', va='center')\n",
        "ax.text(1, 9.0, r'${\\tt np.ones((3,\\, 3)) + np.arange(3)}$',\n",
        "        size=12, ha='left', va='bottom')\n",
        "\n",
        "#------------------------------------------------------------\n",
        "# Draw bottom operation: vector plus vector, double broadcast\n",
        "\n",
        "# first block\n",
        "draw_cube(ax, (1, 3), 1, depth, [1, 2, 3, 4, 5, 6, 7, 9, 10], '0', **solid)\n",
        "draw_cube(ax, (1, 2), 1, depth, [2, 3, 4, 7, 10], '1', **solid)\n",
        "draw_cube(ax, (1, 1), 1, depth, [2, 3, 4, 7, 10], '2', **solid)\n",
        "\n",
        "draw_cube(ax, (2, 3), 1, depth, [1, 2, 3, 6, 7, 9, 10, 11], '0', **dotted)\n",
        "draw_cube(ax, (2, 2), 1, depth, [2, 3, 7, 10, 11], '1', **dotted)\n",
        "draw_cube(ax, (2, 1), 1, depth, [2, 3, 7, 10, 11], '2', **dotted)\n",
        "\n",
        "draw_cube(ax, (3, 3), 1, depth, [1, 2, 3, 6, 7, 9, 10, 11], '0', **dotted)\n",
        "draw_cube(ax, (3, 2), 1, depth, [2, 3, 7, 10, 11], '1', **dotted)\n",
        "draw_cube(ax, (3, 1), 1, depth, [2, 3, 7, 10, 11], '2', **dotted)\n",
        "\n",
        "# second block\n",
        "draw_cube(ax, (6, 3), 1, depth, [1, 2, 3, 4, 5, 6, 9], '0', **solid)\n",
        "draw_cube(ax, (7, 3), 1, depth, [1, 2, 3, 6, 9], '1', **solid)\n",
        "draw_cube(ax, (8, 3), 1, depth, [1, 2, 3, 6, 7, 9, 10], '2', **solid)\n",
        "\n",
        "draw_cube(ax, (6, 2), 1, depth, range(2, 13), '0', **dotted)\n",
        "draw_cube(ax, (7, 2), 1, depth, [2, 3, 6, 7, 9, 10, 11], '1', **dotted)\n",
        "draw_cube(ax, (8, 2), 1, depth, [2, 3, 6, 7, 9, 10, 11], '2', **dotted)\n",
        "\n",
        "draw_cube(ax, (6, 1), 1, depth, [2, 3, 4, 7, 8, 10, 11, 12], '0', **dotted)\n",
        "draw_cube(ax, (7, 1), 1, depth, [2, 3, 7, 10, 11], '1', **dotted)\n",
        "draw_cube(ax, (8, 1), 1, depth, [2, 3, 7, 10, 11], '2', **dotted)\n",
        "\n",
        "# third block\n",
        "draw_cube(ax, (12, 3), 1, depth, [1, 2, 3, 4, 5, 6, 9], '0', **solid)\n",
        "draw_cube(ax, (13, 3), 1, depth, [1, 2, 3, 6, 9], '1', **solid)\n",
        "draw_cube(ax, (14, 3), 1, depth, [1, 2, 3, 6, 7, 9, 10], '2', **solid)\n",
        "\n",
        "draw_cube(ax, (12, 2), 1, depth, [2, 3, 4], '1', **solid)\n",
        "draw_cube(ax, (13, 2), 1, depth, [2, 3], '2', **solid)\n",
        "draw_cube(ax, (14, 2), 1, depth, [2, 3, 7, 10], '3', **solid)\n",
        "\n",
        "draw_cube(ax, (12, 1), 1, depth, [2, 3, 4], '2', **solid)\n",
        "draw_cube(ax, (13, 1), 1, depth, [2, 3], '3', **solid)\n",
        "draw_cube(ax, (14, 1), 1, depth, [2, 3, 7, 10], '4', **solid)\n",
        "\n",
        "ax.text(5, 2.5, '+', size=12, ha='center', va='center')\n",
        "ax.text(10.5, 2.5, '=', size=12, ha='center', va='center')\n",
        "ax.text(1, 4.5, r'${\\tt np.arange(3).reshape((3,\\, 1)) + np.arange(3)}$',\n",
        "        ha='left', size=12, va='bottom')\n",
        "\n",
        "ax.set_xlim(0, 16)\n",
        "ax.set_ylim(0.5, 12.5)\n",
        "\n",
        "fig.savefig('broadcasting.png')"
      ],
      "execution_count": 0,
      "outputs": [
        {
          "output_type": "display_data",
          "data": {
            "image/png": "[encoded data removed]",
            "text/plain": [
              "<Figure size 432x324 with 1 Axes>"
            ]
          },
          "metadata": {
            "tags": []
          }
        }
      ]
    },
    {
      "cell_type": "code",
      "metadata": {
        "id": "qT1M5vUiGVYE",
        "colab_type": "code",
        "colab": {}
      },
      "source": [
        "N = np.ones((3, 2))\n",
        "a = np.arange(3)"
      ],
      "execution_count": 0,
      "outputs": []
    },
    {
      "cell_type": "code",
      "metadata": {
        "id": "IaCBktDLH7y0",
        "colab_type": "code",
        "colab": {}
      },
      "source": [
        ""
      ],
      "execution_count": 0,
      "outputs": []
    }
  ]
}