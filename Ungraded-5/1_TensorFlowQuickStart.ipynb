{
  "nbformat": 4,
  "nbformat_minor": 0,
  "metadata": {
    "colab": {
      "name": "1.TensorFlowQuickStart.ipynb",
      "provenance": [],
      "authorship_tag": "ABX9TyNWFQaj02HwEOFcmcOicq1j",
      "include_colab_link": true
    },
    "kernelspec": {
      "name": "python3",
      "display_name": "Python 3"
    }
  },
  "cells": [
    {
      "cell_type": "markdown",
      "metadata": {
        "id": "view-in-github",
        "colab_type": "text"
      },
      "source": [
        "<a href=\"https://colab.research.google.com/github/ashaaher/Deep-Learning/blob/master/Ungraded-5/1_TensorFlowQuickStart.ipynb\" target=\"_parent\"><img src=\"https://colab.research.google.com/assets/colab-badge.svg\" alt=\"Open In Colab\"/></a>"
      ]
    },
    {
      "cell_type": "markdown",
      "metadata": {
        "id": "dp3Zn-kdfZ4b",
        "colab_type": "text"
      },
      "source": [
        "Importing TensorFlow"
      ]
    },
    {
      "cell_type": "code",
      "metadata": {
        "id": "3HZSro8LfnYI",
        "colab_type": "code",
        "colab": {}
      },
      "source": [
        "import tensorflow as tf\n",
        "\n",
        "from tensorflow.keras.layers import Dense,Flatten, Conv2D\n",
        "from tensorflow.keras import Model"
      ],
      "execution_count": 0,
      "outputs": []
    },
    {
      "cell_type": "markdown",
      "metadata": {
        "id": "jxbyzYYLfk7N",
        "colab_type": "text"
      },
      "source": [
        "Loading and preparing MNIST dataset"
      ]
    },
    {
      "cell_type": "code",
      "metadata": {
        "id": "6uajmyXnfg9Q",
        "colab_type": "code",
        "colab": {}
      },
      "source": [
        "mnist = tf.keras.datasets.mnist\n",
        "(x_train,y_train),(x_test,y_test) = mnist.load_data()\n",
        "x_train, x_test = x_train / 255.0, x_test / 255.0\n"
      ],
      "execution_count": 0,
      "outputs": []
    },
    {
      "cell_type": "code",
      "metadata": {
        "id": "5PYPjFcigRMA",
        "colab_type": "code",
        "colab": {}
      },
      "source": [
        "#Adding a channel dimension\n",
        "x_train = x_train[..., tf.newaxis]\n",
        "x_test = x_test[..., tf.newaxis]"
      ],
      "execution_count": 0,
      "outputs": []
    },
    {
      "cell_type": "markdown",
      "metadata": {
        "id": "juW6zDmBg24B",
        "colab_type": "text"
      },
      "source": [
        "Using tf.data to batch and shuffle the dataset:"
      ]
    },
    {
      "cell_type": "code",
      "metadata": {
        "id": "v4CzDiYsgt6W",
        "colab_type": "code",
        "colab": {}
      },
      "source": [
        "train_ds = tf.data.Dataset.from_tensor_slices((x_train,y_train)).shuffle(10000).batch(32)\n",
        "test_ds = tf.data.Dataset.from_tensor_slices((x_train,y_train)).batch(32)"
      ],
      "execution_count": 0,
      "outputs": []
    },
    {
      "cell_type": "markdown",
      "metadata": {
        "id": "5GoYSMPxhWqM",
        "colab_type": "text"
      },
      "source": [
        "Building the tf.keras model using the Keras model subclassing API:\n"
      ]
    },
    {
      "cell_type": "code",
      "metadata": {
        "id": "yJDlCw32hOFf",
        "colab_type": "code",
        "colab": {}
      },
      "source": [
        "class MyModel(Model):\n",
        "  def __init__(self):\n",
        "    super(MyModel, self).__init__()\n",
        "    self.conv1 = Conv2D(32,3,activation ='relu')\n",
        "    self.flatten = Flatten()\n",
        "    self.d1 = Dense(128, activation ='relu')\n",
        "    self.d2 = Dense(10)\n",
        "\n",
        "  def call(self, x):\n",
        "    x = self.conv1(x)\n",
        "    x = self.flatten(x)\n",
        "    x = self.d1(x)\n",
        "    return self.d2(x)\n",
        "\n",
        "#creating an instance of the model\n",
        "model = MyModel()"
      ],
      "execution_count": 0,
      "outputs": []
    },
    {
      "cell_type": "markdown",
      "metadata": {
        "id": "hxn96gNLiKxq",
        "colab_type": "text"
      },
      "source": [
        "Choosing Optimiser and loss finction"
      ]
    },
    {
      "cell_type": "code",
      "metadata": {
        "id": "frIKdL1ZiIOq",
        "colab_type": "code",
        "colab": {}
      },
      "source": [
        "loss_object = tf.keras.losses.SparseCategoricalCrossentropy(from_logits = True)\n",
        "optimizer = tf.keras.optimizers.Adam()"
      ],
      "execution_count": 0,
      "outputs": []
    },
    {
      "cell_type": "markdown",
      "metadata": {
        "id": "KWJJ9ckcihp1",
        "colab_type": "text"
      },
      "source": [
        "Selecting the metrics to measure the loss and the accuracy of the model. These metrics accumulate the values over epochs and then print the overall result"
      ]
    },
    {
      "cell_type": "code",
      "metadata": {
        "id": "Hmw_Q0QKiZsM",
        "colab_type": "code",
        "colab": {}
      },
      "source": [
        "train_loss = tf.keras.metrics.Mean(name= 'train_loss')\n",
        "train_accuracy = tf.keras.metrics.SparseCategoricalAccuracy(name = 'train_accuracy')\n",
        "\n",
        "test_loss = tf.keras.metrics.Mean(name = 'test_loss')\n",
        "test_accuracy = tf.keras.metrics.SparseCategoricalAccuracy(name = 'test_accuracy')"
      ],
      "execution_count": 0,
      "outputs": []
    },
    {
      "cell_type": "markdown",
      "metadata": {
        "id": "IYyn-_xhjVTi",
        "colab_type": "text"
      },
      "source": [
        "Using tf.GradientTape to train the model:"
      ]
    },
    {
      "cell_type": "code",
      "metadata": {
        "id": "7V2NAMYrjSNK",
        "colab_type": "code",
        "colab": {}
      },
      "source": [
        "@tf.function\n",
        "def train_step(images,labels):\n",
        "    with tf.GradientTape() as tape:\n",
        "       # training=True is only needed if there are layers with different\n",
        "      #behavior during training versus inference (e.g. Dropout).\n",
        "      predictions = model(images, training= True)\n",
        "      loss = loss_object(labels,predictions)\n",
        "    gradients = tape.gradient(loss, model.trainable_variables)\n",
        "    optimizer.apply_gradients(zip(gradients,model.trainable_variables))\n",
        "\n",
        "    train_loss(loss)\n",
        "    train_accuracy(labels,predictions)\n"
      ],
      "execution_count": 0,
      "outputs": []
    },
    {
      "cell_type": "markdown",
      "metadata": {
        "id": "Aw27uolskXA3",
        "colab_type": "text"
      },
      "source": [
        "testing model"
      ]
    },
    {
      "cell_type": "code",
      "metadata": {
        "id": "Z5VvqdQhkS0P",
        "colab_type": "code",
        "colab": {}
      },
      "source": [
        "@tf.function\n",
        "def test_step(images, labels):\n",
        "   #training=False is only needed if there are layers with different\n",
        "   #behavior during training versus inference (e.g. Dropout).\n",
        "   predictions = model(images, training= True)\n",
        "   t_loss = loss_object(labels,predictions)\n",
        "\n",
        "   test_loss(t_loss)\n",
        "   test_accuracy(labels,predictions)\n",
        "   "
      ],
      "execution_count": 0,
      "outputs": []
    },
    {
      "cell_type": "code",
      "metadata": {
        "id": "YhQNVfV9k4qa",
        "colab_type": "code",
        "outputId": "2b2dcb0e-d657-43ba-a142-affc9daedc4e",
        "colab": {
          "base_uri": "https://localhost:8080/",
          "height": 224
        }
      },
      "source": [
        "EPOCHS = 5\n",
        "\n",
        "for epoch in range(EPOCHS):\n",
        "  # Reset the metrics at the start of the next epoch\n",
        "  train_loss.reset_states()\n",
        "  train_accuracy.reset_states()\n",
        "  test_loss.reset_states()\n",
        "  test_accuracy.reset_states()\n",
        "\n",
        "  for images, labels in train_ds:\n",
        "    train_step(images,labels)\n",
        "\n",
        "  for test_images, test_labels in test_ds:\n",
        "    test_step(test_images,test_labels)\n",
        "  \n",
        "  template = 'Epoch {}, Loss: {}, Accuracy:{}, Test Loss: {}, Test Accuracy: {}'\n",
        "  print(template.format(epoch + 1,\n",
        "                        train_loss.result(),\n",
        "                        train_accuracy.result() *100,\n",
        "                        test_loss.result(),\n",
        "                        test_accuracy.result() *100))\n",
        "\n",
        "               \n"
      ],
      "execution_count": 0,
      "outputs": [
        {
          "output_type": "stream",
          "text": [
            "WARNING:tensorflow:Layer my_model_2 is casting an input tensor from dtype float64 to the layer's dtype of float32, which is new behavior in TensorFlow 2.  The layer has dtype float32 because it's dtype defaults to floatx.\n",
            "\n",
            "If you intended to run this layer in float32, you can safely ignore this warning. If in doubt, this warning is likely only an issue if you are porting a TensorFlow 1.X model to TensorFlow 2.\n",
            "\n",
            "To change all layers to have dtype float64 by default, call `tf.keras.backend.set_floatx('float64')`. To change just this layer, pass dtype='float64' to the layer constructor. If you are the author of this layer, you can disable autocasting by passing autocast=False to the base Layer constructor.\n",
            "\n",
            "Epoch 1, Loss: 0.13493454456329346, Accuracy:95.93499755859375, Test Loss: 0.04387829452753067, Test Accuracy: 98.77832794189453\n",
            "Epoch 2, Loss: 0.04148292541503906, Accuracy:98.6816635131836, Test Loss: 0.02407815307378769, Test Accuracy: 99.23500061035156\n",
            "Epoch 3, Loss: 0.022648649290204048, Accuracy:99.29999542236328, Test Loss: 0.014492865651845932, Test Accuracy: 99.56832885742188\n",
            "Epoch 4, Loss: 0.01391378603875637, Accuracy:99.5566635131836, Test Loss: 0.006173391826450825, Test Accuracy: 99.81999969482422\n",
            "Epoch 5, Loss: 0.009135669097304344, Accuracy:99.69666290283203, Test Loss: 0.006829404272139072, Test Accuracy: 99.77999877929688\n"
          ],
          "name": "stdout"
        }
      ]
    },
    {
      "cell_type": "markdown",
      "metadata": {
        "id": "S2gGTIectkiX",
        "colab_type": "text"
      },
      "source": [
        "The image classifier is now trained to 99% accuracy on this dataset. "
      ]
    },
    {
      "cell_type": "code",
      "metadata": {
        "id": "IT_fVAogmUiG",
        "colab_type": "code",
        "colab": {}
      },
      "source": [
        ""
      ],
      "execution_count": 0,
      "outputs": []
    }
  ]
}