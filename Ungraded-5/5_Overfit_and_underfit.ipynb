{
  "nbformat": 4,
  "nbformat_minor": 0,
  "metadata": {
    "colab": {
      "name": "5.Overfit and underfit.ipynb",
      "provenance": [],
      "authorship_tag": "ABX9TyOyZOctXG7yqJJRoCA1zsj+",
      "include_colab_link": true
    },
    "kernelspec": {
      "name": "python3",
      "display_name": "Python 3"
    }
  },
  "cells": [
    {
      "cell_type": "markdown",
      "metadata": {
        "id": "view-in-github",
        "colab_type": "text"
      },
      "source": [
        "<a href=\"https://colab.research.google.com/github/ashaaher/Deep-Learning/blob/master/Ungraded-5/5_Overfit_and_underfit.ipynb\" target=\"_parent\"><img src=\"https://colab.research.google.com/assets/colab-badge.svg\" alt=\"Open In Colab\"/></a>"
      ]
    },
    {
      "cell_type": "code",
      "metadata": {
        "id": "mkhnzEJv64cv",
        "colab_type": "code",
        "outputId": "50b0c115-c059-42d0-ebae-049a04aa1b91",
        "colab": {
          "base_uri": "https://localhost:8080/",
          "height": 34
        }
      },
      "source": [
        "import tensorflow as tf\n",
        "\n",
        "from tensorflow.keras import layers\n",
        "from tensorflow.keras import regularizers\n",
        "\n",
        "print(tf.__version__)"
      ],
      "execution_count": 0,
      "outputs": [
        {
          "output_type": "stream",
          "text": [
            "2.2.0-rc4\n"
          ],
          "name": "stdout"
        }
      ]
    },
    {
      "cell_type": "code",
      "metadata": {
        "id": "N5vwQXl-7Eyk",
        "colab_type": "code",
        "outputId": "67e25b45-9844-4e3a-ae79-486d7ae55bd9",
        "colab": {
          "base_uri": "https://localhost:8080/",
          "height": 34
        }
      },
      "source": [
        "!pip install -q git+https://github.com/tensorflow/docs\n",
        "\n",
        "import tensorflow_docs as tfdocs\n",
        "import tensorflow_docs.modeling\n",
        "import tensorflow_docs.plots"
      ],
      "execution_count": 0,
      "outputs": [
        {
          "output_type": "stream",
          "text": [
            "  Building wheel for tensorflow-docs (setup.py) ... \u001b[?25l\u001b[?25hdone\n"
          ],
          "name": "stdout"
        }
      ]
    },
    {
      "cell_type": "code",
      "metadata": {
        "id": "hM7d57Pu7H20",
        "colab_type": "code",
        "colab": {}
      },
      "source": [
        "from  IPython import display\n",
        "from matplotlib import pyplot as plt\n",
        "\n",
        "import numpy as np\n",
        "\n",
        "import pathlib\n",
        "import shutil\n",
        "import tempfile"
      ],
      "execution_count": 0,
      "outputs": []
    },
    {
      "cell_type": "code",
      "metadata": {
        "id": "9-qNWS7F7KTT",
        "colab_type": "code",
        "colab": {}
      },
      "source": [
        "logdir = pathlib.Path(tempfile.mkdtemp())/\"tensorboard_logs\"\n",
        "shutil.rmtree(logdir, ignore_errors=True)"
      ],
      "execution_count": 0,
      "outputs": []
    },
    {
      "cell_type": "code",
      "metadata": {
        "id": "gZS-IzZQ7OjK",
        "colab_type": "code",
        "colab": {}
      },
      "source": [
        "gz = tf.keras.utils.get_file('HIGGS.csv.gz', 'http://mlphysics.ics.uci.edu/data/higgs/HIGGS.csv.gz')"
      ],
      "execution_count": 0,
      "outputs": []
    },
    {
      "cell_type": "code",
      "metadata": {
        "id": "vwcPvVQt7U5H",
        "colab_type": "code",
        "colab": {}
      },
      "source": [
        "FEATURES = 28"
      ],
      "execution_count": 0,
      "outputs": []
    },
    {
      "cell_type": "markdown",
      "metadata": {
        "id": "87KWMoCc7fEy",
        "colab_type": "text"
      },
      "source": [
        "The tf.data.experimental.CsvDataset class can be used to read csv records directly from a gzip file with no intermediate decompression step."
      ]
    },
    {
      "cell_type": "code",
      "metadata": {
        "id": "5EKyj9PR7bBq",
        "colab_type": "code",
        "colab": {}
      },
      "source": [
        "ds = tf.data.experimental.CsvDataset(gz,[float(),]*(FEATURES+1), compression_type=\"GZIP\")"
      ],
      "execution_count": 0,
      "outputs": []
    },
    {
      "cell_type": "markdown",
      "metadata": {
        "id": "X0Qy0PI07ij9",
        "colab_type": "text"
      },
      "source": [
        "That csv reader class returns a list of scalars for each record. The following function repacks that list of scalars into a (feature_vector, label) pair."
      ]
    },
    {
      "cell_type": "code",
      "metadata": {
        "id": "pQ9oMw1K7jMp",
        "colab_type": "code",
        "colab": {}
      },
      "source": [
        "def pack_row(*row):\n",
        "  label = row[0]\n",
        "  features = tf.stack(row[1:],1)\n",
        "  return features, label"
      ],
      "execution_count": 0,
      "outputs": []
    },
    {
      "cell_type": "markdown",
      "metadata": {
        "id": "1QCPl3gl7pgW",
        "colab_type": "text"
      },
      "source": [
        "TensorFlow is most efficient when operating on large batches of data.\n",
        "\n",
        "So instead of repacking each row individually make a new Dataset that takes batches of 10000-examples, applies the pack_row function to each batch, and then splits the batches back up into individual records:"
      ]
    },
    {
      "cell_type": "code",
      "metadata": {
        "id": "XRMwXTXp7oDG",
        "colab_type": "code",
        "colab": {}
      },
      "source": [
        "packed_ds = ds.batch(10000).map(pack_row).unbatch()"
      ],
      "execution_count": 0,
      "outputs": []
    },
    {
      "cell_type": "code",
      "metadata": {
        "id": "ubekegTO7ssa",
        "colab_type": "code",
        "outputId": "850d6fb7-8aa5-4d4f-cff4-9f1936031ba8",
        "colab": {
          "base_uri": "https://localhost:8080/",
          "height": 367
        }
      },
      "source": [
        "for features,label in packed_ds.batch(1000).take(1):\n",
        "  print(features[0])\n",
        "  plt.hist(features.numpy().flatten(), bins = 101)"
      ],
      "execution_count": 0,
      "outputs": [
        {
          "output_type": "stream",
          "text": [
            "tf.Tensor(\n",
            "[ 0.8692932  -0.6350818   0.22569026  0.32747006 -0.6899932   0.75420225\n",
            " -0.24857314 -1.0920639   0.          1.3749921  -0.6536742   0.9303491\n",
            "  1.1074361   1.1389043  -1.5781983  -1.0469854   0.          0.65792954\n",
            " -0.01045457 -0.04576717  3.1019614   1.35376     0.9795631   0.97807616\n",
            "  0.92000484  0.72165745  0.98875093  0.87667835], shape=(28,), dtype=float32)\n"
          ],
          "name": "stdout"
        },
        {
          "output_type": "display_data",
          "data": {
            "image/png": "[encoded data removed]",
            "text/plain": [
              "<Figure size 432x288 with 1 Axes>"
            ]
          },
          "metadata": {
            "tags": [],
            "needs_background": "light"
          }
        }
      ]
    },
    {
      "cell_type": "code",
      "metadata": {
        "id": "R1jUy_F47vOL",
        "colab_type": "code",
        "colab": {}
      },
      "source": [
        "N_VALIDATION = int(1e3)\n",
        "N_TRAIN = int(1e4)\n",
        "BUFFER_SIZE = int(1e4)\n",
        "BATCH_SIZE = 500\n",
        "STEPS_PER_EPOCH = N_TRAIN//BATCH_SIZE"
      ],
      "execution_count": 0,
      "outputs": []
    },
    {
      "cell_type": "code",
      "metadata": {
        "id": "RtQGilA97xj_",
        "colab_type": "code",
        "colab": {}
      },
      "source": [
        "validate_ds = packed_ds.take(N_VALIDATION).cache()\n",
        "train_ds = packed_ds.skip(N_VALIDATION).take(N_TRAIN).cache()"
      ],
      "execution_count": 0,
      "outputs": []
    },
    {
      "cell_type": "code",
      "metadata": {
        "id": "-Iq5gYt_704j",
        "colab_type": "code",
        "outputId": "c72aeb33-da88-4010-eb69-d8959fbc5b47",
        "colab": {
          "base_uri": "https://localhost:8080/",
          "height": 34
        }
      },
      "source": [
        "train_ds"
      ],
      "execution_count": 0,
      "outputs": [
        {
          "output_type": "execute_result",
          "data": {
            "text/plain": [
              "<CacheDataset shapes: ((28,), ()), types: (tf.float32, tf.float32)>"
            ]
          },
          "metadata": {
            "tags": []
          },
          "execution_count": 135
        }
      ]
    },
    {
      "cell_type": "code",
      "metadata": {
        "id": "skBmQmG175iY",
        "colab_type": "code",
        "colab": {}
      },
      "source": [
        "validate_ds = validate_ds.batch(BATCH_SIZE)\n",
        "train_ds = train_ds.shuffle(BUFFER_SIZE).repeat().batch(BATCH_SIZE)"
      ],
      "execution_count": 0,
      "outputs": []
    },
    {
      "cell_type": "markdown",
      "metadata": {
        "id": "M3u1H7IX8Bb5",
        "colab_type": "text"
      },
      "source": [
        "**Demonstrate Overfitting**\n",
        "\n",
        "Training procedure\n",
        "Many models train better if you gradually reduce the learning rate during training. Use optimizers.schedules to reduce the learning rate over time:"
      ]
    },
    {
      "cell_type": "code",
      "metadata": {
        "id": "goTJtIcF79Op",
        "colab_type": "code",
        "colab": {}
      },
      "source": [
        "lr_schedule = tf.keras.optimizers.schedules.InverseTimeDecay(\n",
        "  0.001,\n",
        "  decay_steps=STEPS_PER_EPOCH*1000,\n",
        "  decay_rate=1,\n",
        "  staircase=False)\n",
        "\n",
        "def get_optimizer():\n",
        "  return tf.keras.optimizers.Adam(lr_schedule)"
      ],
      "execution_count": 0,
      "outputs": []
    },
    {
      "cell_type": "markdown",
      "metadata": {
        "id": "42TMHjoB8Me2",
        "colab_type": "text"
      },
      "source": [
        "The code above sets a schedules.InverseTimeDecay to hyperbolically decrease the learning rate to 1/2 of the base rate at 1000 epochs, 1/3 at 2000 epochs and so on."
      ]
    },
    {
      "cell_type": "code",
      "metadata": {
        "id": "E7Q84Yfp8A43",
        "colab_type": "code",
        "outputId": "27df31b3-ccae-4835-959e-d1c5b2d50906",
        "colab": {
          "base_uri": "https://localhost:8080/",
          "height": 388
        }
      },
      "source": [
        "step = np.linspace(0,100000)\n",
        "lr = lr_schedule(step)\n",
        "plt.figure(figsize = (8,6))\n",
        "plt.plot(step/STEPS_PER_EPOCH, lr)\n",
        "plt.ylim([0,max(plt.ylim())])\n",
        "plt.xlabel('Epoch')\n",
        "_ = plt.ylabel('Learning Rate')"
      ],
      "execution_count": 0,
      "outputs": [
        {
          "output_type": "display_data",
          "data": {
            "image/png": "[encoded data removed]",
            "text/plain": [
              "<Figure size 576x432 with 1 Axes>"
            ]
          },
          "metadata": {
            "tags": [],
            "needs_background": "light"
          }
        }
      ]
    },
    {
      "cell_type": "markdown",
      "metadata": {
        "id": "ShkrCfEr8SIr",
        "colab_type": "text"
      },
      "source": [
        "Each model in this tutorial will use the same training configuration. So set these up in a reusable way, starting with the list of callbacks.\n",
        "\n",
        "The training for this tutorial runs for many short epochs. To reduce the logging noise use the tfdocs.EpochDots which simply prints a . for each epoch, and a full set of metrics every 100 epochs.\n",
        "\n",
        "Next include callbacks.EarlyStopping to avoid long and unnecessary training times. Note that this callback is set to monitor the val_binary_crossentropy, not the val_loss. This difference will be important later.\n",
        "\n",
        "Use callbacks.TensorBoard to generate TensorBoard logs for the training."
      ]
    },
    {
      "cell_type": "code",
      "metadata": {
        "id": "h5xhQDQ28POA",
        "colab_type": "code",
        "colab": {}
      },
      "source": [
        "def get_callbacks(name):\n",
        "  return [\n",
        "    tfdocs.modeling.EpochDots(),\n",
        "    tf.keras.callbacks.EarlyStopping(monitor='val_binary_crossentropy', patience=200),\n",
        "    tf.keras.callbacks.TensorBoard(logdir/name),\n",
        "  ]"
      ],
      "execution_count": 0,
      "outputs": []
    },
    {
      "cell_type": "markdown",
      "metadata": {
        "id": "9-z9qzKK8mZV",
        "colab_type": "text"
      },
      "source": [
        "Similarly each model will use the same Model.compile and Model.fit settings:"
      ]
    },
    {
      "cell_type": "code",
      "metadata": {
        "id": "kXh5y0Lx8kCs",
        "colab_type": "code",
        "colab": {}
      },
      "source": [
        "def compile_and_fit(model, name, optimizer=None, max_epochs=10000):\n",
        "  if optimizer is None:\n",
        "    optimizer = get_optimizer()\n",
        "  model.compile(optimizer=optimizer,\n",
        "                loss=tf.keras.losses.BinaryCrossentropy(from_logits=True),\n",
        "                metrics=[\n",
        "                  tf.keras.losses.BinaryCrossentropy(\n",
        "                      from_logits=True, name='binary_crossentropy'),\n",
        "                  'accuracy'])\n",
        "\n",
        "  model.summary()\n",
        "\n",
        "  history = model.fit(\n",
        "    train_ds,\n",
        "    steps_per_epoch = STEPS_PER_EPOCH,\n",
        "    epochs=max_epochs,\n",
        "    validation_data=validate_ds,\n",
        "    callbacks=get_callbacks(name),\n",
        "    verbose=0)\n",
        "  return history"
      ],
      "execution_count": 0,
      "outputs": []
    },
    {
      "cell_type": "markdown",
      "metadata": {
        "id": "4KGWVS1D8us8",
        "colab_type": "text"
      },
      "source": [
        "Training Model"
      ]
    },
    {
      "cell_type": "code",
      "metadata": {
        "id": "AEQ0DYO08pSb",
        "colab_type": "code",
        "colab": {}
      },
      "source": [
        "tiny_model = tf.keras.Sequential([\n",
        "    layers.Dense(16, activation='elu', input_shape=(FEATURES,)),\n",
        "    layers.Dense(1)\n",
        "])"
      ],
      "execution_count": 0,
      "outputs": []
    },
    {
      "cell_type": "code",
      "metadata": {
        "id": "bJAt_14J8wb6",
        "colab_type": "code",
        "colab": {}
      },
      "source": [
        "size_histories = {}"
      ],
      "execution_count": 0,
      "outputs": []
    },
    {
      "cell_type": "code",
      "metadata": {
        "id": "-BnAuEsP8ylY",
        "colab_type": "code",
        "outputId": "4b773c45-e5d4-4741-bb6a-ade2b5450fda",
        "colab": {
          "base_uri": "https://localhost:8080/",
          "height": 748
        }
      },
      "source": [
        "size_histories['Tiny'] = compile_and_fit(tiny_model, 'sizes/Tiny')"
      ],
      "execution_count": 0,
      "outputs": [
        {
          "output_type": "stream",
          "text": [
            "Model: \"sequential_16\"\n",
            "_________________________________________________________________\n",
            "Layer (type)                 Output Shape              Param #   \n",
            "=================================================================\n",
            "dense_62 (Dense)             (None, 16)                464       \n",
            "_________________________________________________________________\n",
            "dense_63 (Dense)             (None, 1)                 17        \n",
            "=================================================================\n",
            "Total params: 481\n",
            "Trainable params: 481\n",
            "Non-trainable params: 0\n",
            "_________________________________________________________________\n",
            "\n",
            "Epoch: 0, accuracy:0.4809,  binary_crossentropy:0.8175,  loss:0.8175,  val_accuracy:0.5060,  val_binary_crossentropy:0.7487,  val_loss:0.7487,  \n",
            "....................................................................................................\n",
            "Epoch: 100, accuracy:0.6069,  binary_crossentropy:0.6210,  loss:0.6210,  val_accuracy:0.6010,  val_binary_crossentropy:0.6223,  val_loss:0.6223,  \n",
            "....................................................................................................\n",
            "Epoch: 200, accuracy:0.6319,  binary_crossentropy:0.6055,  loss:0.6055,  val_accuracy:0.6230,  val_binary_crossentropy:0.6060,  val_loss:0.6060,  \n",
            "....................................................................................................\n",
            "Epoch: 300, accuracy:0.6575,  binary_crossentropy:0.5955,  loss:0.5955,  val_accuracy:0.6290,  val_binary_crossentropy:0.5988,  val_loss:0.5988,  \n",
            "....................................................................................................\n",
            "Epoch: 400, accuracy:0.6596,  binary_crossentropy:0.5908,  loss:0.5908,  val_accuracy:0.6530,  val_binary_crossentropy:0.5937,  val_loss:0.5937,  \n",
            "....................................................................................................\n",
            "Epoch: 500, accuracy:0.6629,  binary_crossentropy:0.5869,  loss:0.5869,  val_accuracy:0.6660,  val_binary_crossentropy:0.5899,  val_loss:0.5899,  \n",
            "....................................................................................................\n",
            "Epoch: 600, accuracy:0.6698,  binary_crossentropy:0.5842,  loss:0.5842,  val_accuracy:0.6740,  val_binary_crossentropy:0.5883,  val_loss:0.5883,  \n",
            "....................................................................................................\n",
            "Epoch: 700, accuracy:0.6694,  binary_crossentropy:0.5822,  loss:0.5822,  val_accuracy:0.6750,  val_binary_crossentropy:0.5868,  val_loss:0.5868,  \n",
            "....................................................................................................\n",
            "Epoch: 800, accuracy:0.6750,  binary_crossentropy:0.5797,  loss:0.5797,  val_accuracy:0.6730,  val_binary_crossentropy:0.5859,  val_loss:0.5859,  \n",
            "....................................................................................................\n",
            "Epoch: 900, accuracy:0.6761,  binary_crossentropy:0.5780,  loss:0.5780,  val_accuracy:0.6720,  val_binary_crossentropy:0.5853,  val_loss:0.5853,  \n",
            "....................................................................................................\n",
            "Epoch: 1000, accuracy:0.6799,  binary_crossentropy:0.5766,  loss:0.5766,  val_accuracy:0.6670,  val_binary_crossentropy:0.5854,  val_loss:0.5854,  \n",
            "....................................................................................................\n",
            "Epoch: 1100, accuracy:0.6804,  binary_crossentropy:0.5751,  loss:0.5751,  val_accuracy:0.6660,  val_binary_crossentropy:0.5858,  val_loss:0.5858,  \n",
            "....................................................................................................\n",
            "Epoch: 1200, accuracy:0.6828,  binary_crossentropy:0.5739,  loss:0.5739,  val_accuracy:0.6620,  val_binary_crossentropy:0.5870,  val_loss:0.5870,  \n",
            "....................................................................................................\n",
            "Epoch: 1300, accuracy:0.6853,  binary_crossentropy:0.5730,  loss:0.5730,  val_accuracy:0.6620,  val_binary_crossentropy:0.5885,  val_loss:0.5885,  \n",
            "....................................................................................................\n",
            "Epoch: 1400, accuracy:0.6828,  binary_crossentropy:0.5718,  loss:0.5718,  val_accuracy:0.6730,  val_binary_crossentropy:0.5851,  val_loss:0.5851,  \n",
            "........................"
          ],
          "name": "stdout"
        }
      ]
    },
    {
      "cell_type": "code",
      "metadata": {
        "id": "fJL7sX5r806P",
        "colab_type": "code",
        "outputId": "b3fbc49f-1b08-4b99-8187-302d401b9108",
        "colab": {
          "base_uri": "https://localhost:8080/",
          "height": 300
        }
      },
      "source": [
        "plotter = tfdocs.plots.HistoryPlotter(metric = 'binary_crossentropy', smoothing_std=10)\n",
        "plotter.plot(size_histories)\n",
        "plt.ylim([0.5, 0.7])"
      ],
      "execution_count": 0,
      "outputs": [
        {
          "output_type": "execute_result",
          "data": {
            "text/plain": [
              "(0.5, 0.7)"
            ]
          },
          "metadata": {
            "tags": []
          },
          "execution_count": 144
        },
        {
          "output_type": "display_data",
          "data": {
            "image/png": "[encoded data removed]",
            "text/plain": [
              "<Figure size 432x288 with 1 Axes>"
            ]
          },
          "metadata": {
            "tags": [],
            "needs_background": "light"
          }
        }
      ]
    },
    {
      "cell_type": "code",
      "metadata": {
        "id": "TUol9zwB86XT",
        "colab_type": "code",
        "colab": {}
      },
      "source": [
        "small_model = tf.keras.Sequential([\n",
        "    # `input_shape` is only required here so that `.summary` works.\n",
        "    layers.Dense(16, activation='elu', input_shape=(FEATURES,)),\n",
        "    layers.Dense(16, activation='elu'),\n",
        "    layers.Dense(1)\n",
        "])"
      ],
      "execution_count": 0,
      "outputs": []
    },
    {
      "cell_type": "code",
      "metadata": {
        "id": "u8xVe8qQ9Ph9",
        "colab_type": "code",
        "outputId": "106a3712-3fbe-416b-c1ff-805f8feab708",
        "colab": {
          "base_uri": "https://localhost:8080/",
          "height": 408
        }
      },
      "source": [
        "size_histories['Small'] = compile_and_fit(small_model, 'sizes/Small')"
      ],
      "execution_count": 0,
      "outputs": [
        {
          "output_type": "stream",
          "text": [
            "Model: \"sequential_10\"\n",
            "_________________________________________________________________\n",
            "Layer (type)                 Output Shape              Param #   \n",
            "=================================================================\n",
            "dense_35 (Dense)             (None, 16)                464       \n",
            "_________________________________________________________________\n",
            "dense_36 (Dense)             (None, 16)                272       \n",
            "_________________________________________________________________\n",
            "dense_37 (Dense)             (None, 1)                 17        \n",
            "=================================================================\n",
            "Total params: 753\n",
            "Trainable params: 753\n",
            "Non-trainable params: 0\n",
            "_________________________________________________________________\n",
            "\n",
            "Epoch: 0, accuracy:0.4845,  binary_crossentropy:0.7237,  loss:0.7237,  val_accuracy:0.4740,  val_binary_crossentropy:0.7061,  val_loss:0.7061,  \n",
            "....................................................................................................\n",
            "Epoch: 100, accuracy:0.6434,  binary_crossentropy:0.6045,  loss:0.6045,  val_accuracy:0.6310,  val_binary_crossentropy:0.6021,  val_loss:0.6021,  \n",
            "....................................................................................................\n",
            "Epoch: 200, accuracy:0.6675,  binary_crossentropy:0.5862,  loss:0.5862,  val_accuracy:0.6730,  val_binary_crossentropy:0.5882,  val_loss:0.5882,  \n",
            "....................................................................................................\n",
            "Epoch: 300, accuracy:0.6809,  binary_crossentropy:0.5746,  loss:0.5746,  val_accuracy:0.6390,  val_binary_crossentropy:0.5921,  val_loss:0.5921,  \n",
            "................................................................................................."
          ],
          "name": "stdout"
        }
      ]
    },
    {
      "cell_type": "markdown",
      "metadata": {
        "id": "21T3NYe79WiK",
        "colab_type": "text"
      },
      "source": [
        "Medium Model"
      ]
    },
    {
      "cell_type": "code",
      "metadata": {
        "id": "o_Mpve169TqN",
        "colab_type": "code",
        "colab": {}
      },
      "source": [
        "medium_model = tf.keras.Sequential([\n",
        "    layers.Dense(64, activation='elu', input_shape=(FEATURES,)),\n",
        "    layers.Dense(64, activation='elu'),\n",
        "    layers.Dense(64, activation='elu'),\n",
        "    layers.Dense(1)\n",
        "])"
      ],
      "execution_count": 0,
      "outputs": []
    },
    {
      "cell_type": "code",
      "metadata": {
        "id": "FNBaEXQK9YD8",
        "colab_type": "code",
        "outputId": "2b3751b2-e53b-410a-b3bc-52d7118c0998",
        "colab": {
          "base_uri": "https://localhost:8080/",
          "height": 408
        }
      },
      "source": [
        "size_histories['Medium']  = compile_and_fit(medium_model, \"sizes/Medium\")"
      ],
      "execution_count": 0,
      "outputs": [
        {
          "output_type": "stream",
          "text": [
            "Model: \"sequential_11\"\n",
            "_________________________________________________________________\n",
            "Layer (type)                 Output Shape              Param #   \n",
            "=================================================================\n",
            "dense_38 (Dense)             (None, 64)                1856      \n",
            "_________________________________________________________________\n",
            "dense_39 (Dense)             (None, 64)                4160      \n",
            "_________________________________________________________________\n",
            "dense_40 (Dense)             (None, 64)                4160      \n",
            "_________________________________________________________________\n",
            "dense_41 (Dense)             (None, 1)                 65        \n",
            "=================================================================\n",
            "Total params: 10,241\n",
            "Trainable params: 10,241\n",
            "Non-trainable params: 0\n",
            "_________________________________________________________________\n",
            "\n",
            "Epoch: 0, accuracy:0.4890,  binary_crossentropy:0.6922,  loss:0.6922,  val_accuracy:0.4780,  val_binary_crossentropy:0.6813,  val_loss:0.6813,  \n",
            "....................................................................................................\n",
            "Epoch: 100, accuracy:0.7164,  binary_crossentropy:0.5285,  loss:0.5285,  val_accuracy:0.6910,  val_binary_crossentropy:0.6034,  val_loss:0.6034,  \n",
            "....................................................................................................\n",
            "Epoch: 200, accuracy:0.7725,  binary_crossentropy:0.4395,  loss:0.4395,  val_accuracy:0.6580,  val_binary_crossentropy:0.6571,  val_loss:0.6571,  \n",
            "................................................."
          ],
          "name": "stdout"
        }
      ]
    },
    {
      "cell_type": "markdown",
      "metadata": {
        "id": "Y314Ea4k9e11",
        "colab_type": "text"
      },
      "source": [
        "Large Model"
      ]
    },
    {
      "cell_type": "code",
      "metadata": {
        "id": "EPg3E-Qh9gjy",
        "colab_type": "code",
        "colab": {}
      },
      "source": [
        "large_model = tf.keras.Sequential([\n",
        "    layers.Dense(512, activation='elu', input_shape=(FEATURES,)),\n",
        "    layers.Dense(512, activation='elu'),\n",
        "    layers.Dense(512, activation='elu'),\n",
        "    layers.Dense(512, activation='elu'),\n",
        "    layers.Dense(1)\n",
        "])"
      ],
      "execution_count": 0,
      "outputs": []
    },
    {
      "cell_type": "code",
      "metadata": {
        "id": "SNshEYbC9lKM",
        "colab_type": "code",
        "outputId": "828fa471-292a-4c3a-ca3d-a58f948af2f9",
        "colab": {
          "base_uri": "https://localhost:8080/",
          "height": 442
        }
      },
      "source": [
        "size_histories['large'] = compile_and_fit(large_model, \"sizes/large\")"
      ],
      "execution_count": 0,
      "outputs": [
        {
          "output_type": "stream",
          "text": [
            "Model: \"sequential_17\"\n",
            "_________________________________________________________________\n",
            "Layer (type)                 Output Shape              Param #   \n",
            "=================================================================\n",
            "dense_64 (Dense)             (None, 512)               14848     \n",
            "_________________________________________________________________\n",
            "dense_65 (Dense)             (None, 512)               262656    \n",
            "_________________________________________________________________\n",
            "dense_66 (Dense)             (None, 512)               262656    \n",
            "_________________________________________________________________\n",
            "dense_67 (Dense)             (None, 512)               262656    \n",
            "_________________________________________________________________\n",
            "dense_68 (Dense)             (None, 1)                 513       \n",
            "=================================================================\n",
            "Total params: 803,329\n",
            "Trainable params: 803,329\n",
            "Non-trainable params: 0\n",
            "_________________________________________________________________\n",
            "\n",
            "Epoch: 0, accuracy:0.5062,  binary_crossentropy:0.8134,  loss:0.8134,  val_accuracy:0.4810,  val_binary_crossentropy:0.6819,  val_loss:0.6819,  \n",
            "....................................................................................................\n",
            "Epoch: 100, accuracy:1.0000,  binary_crossentropy:0.0021,  loss:0.0021,  val_accuracy:0.6500,  val_binary_crossentropy:1.8544,  val_loss:1.8544,  \n",
            "....................................................................................................\n",
            "Epoch: 200, accuracy:1.0000,  binary_crossentropy:0.0001,  loss:0.0001,  val_accuracy:0.6510,  val_binary_crossentropy:2.5358,  val_loss:2.5358,  \n",
            "......................."
          ],
          "name": "stdout"
        }
      ]
    },
    {
      "cell_type": "code",
      "metadata": {
        "id": "qeDLmWlz9l7U",
        "colab_type": "code",
        "outputId": "0331b2ff-c9fb-4e86-9111-9b928dfb5ba9",
        "colab": {
          "base_uri": "https://localhost:8080/",
          "height": 304
        }
      },
      "source": [
        "plotter.plot(size_histories)\n",
        "a = plt.xscale('log')\n",
        "plt.xlim([5, max(plt.xlim())])\n",
        "plt.ylim([0.5, 0.7])\n",
        "plt.xlabel(\"Epochs [Log Scale]\")"
      ],
      "execution_count": 0,
      "outputs": [
        {
          "output_type": "execute_result",
          "data": {
            "text/plain": [
              "Text(0.5, 0, 'Epochs [Log Scale]')"
            ]
          },
          "metadata": {
            "tags": []
          },
          "execution_count": 147
        },
        {
          "output_type": "display_data",
          "data": {
            "image/png": "[encoded data removed]",
            "text/plain": [
              "<Figure size 432x288 with 1 Axes>"
            ]
          },
          "metadata": {
            "tags": [],
            "needs_background": "light"
          }
        }
      ]
    },
    {
      "cell_type": "code",
      "metadata": {
        "id": "IQYc9J-w9odM",
        "colab_type": "code",
        "outputId": "681b032e-26c5-4c01-9d9d-e5d9f3841335",
        "colab": {
          "base_uri": "https://localhost:8080/",
          "height": 34
        }
      },
      "source": [
        "#%tensorboard --logdir {logdir}/sizes\n",
        "\n",
        "#docs_infra: no_execute\n",
        "%tensorboard --logdir {logdir}/sizes"
      ],
      "execution_count": 0,
      "outputs": [
        {
          "output_type": "stream",
          "text": [
            "UsageError: Line magic function `%tensorboard` not found.\n"
          ],
          "name": "stderr"
        }
      ]
    },
    {
      "cell_type": "code",
      "metadata": {
        "id": "Lee6OKmE9wAb",
        "colab_type": "code",
        "outputId": "7be7a606-71a6-4d8a-f733-75c7116a0653",
        "colab": {
          "base_uri": "https://localhost:8080/",
          "height": 821
        }
      },
      "source": [
        "display.IFrame(\n",
        "    src=\"https://tensorboard.dev/experiment/vW7jmmF9TmKmy3rbheMQpw/#scalars&_smoothingWeight=0.97\",\n",
        "    width=\"100%\", height=\"800px\")"
      ],
      "execution_count": 0,
      "outputs": [
        {
          "output_type": "execute_result",
          "data": {
            "text/html": [
              "\n",
              "        <iframe\n",
              "            width=\"100%\"\n",
              "            height=\"800px\"\n",
              "            src=\"https://tensorboard.dev/experiment/vW7jmmF9TmKmy3rbheMQpw/#scalars&_smoothingWeight=0.97\"\n",
              "            frameborder=\"0\"\n",
              "            allowfullscreen\n",
              "        ></iframe>\n",
              "        "
            ],
            "text/plain": [
              "<IPython.lib.display.IFrame at 0x7fcfac3efb00>"
            ]
          },
          "metadata": {
            "tags": []
          },
          "execution_count": 149
        }
      ]
    },
    {
      "cell_type": "markdown",
      "metadata": {
        "id": "NO-zjrqM93H7",
        "colab_type": "text"
      },
      "source": [
        "**Strategies to prevent overfitting**\n",
        "Before getting into the content of this section copy the training logs from the \"Tiny\" model above, to use as a baseline for comparison"
      ]
    },
    {
      "cell_type": "code",
      "metadata": {
        "id": "iTbSd5J190Lz",
        "colab_type": "code",
        "outputId": "8503d7ee-512c-4345-98ba-014fff3dfcba",
        "colab": {
          "base_uri": "https://localhost:8080/",
          "height": 34
        }
      },
      "source": [
        "shutil.rmtree(logdir/'regularizers/Tiny', ignore_errors=True)\n",
        "shutil.copytree(logdir/'sizes/Tiny', logdir/'regularizers/Tiny')"
      ],
      "execution_count": 0,
      "outputs": [
        {
          "output_type": "execute_result",
          "data": {
            "text/plain": [
              "PosixPath('/tmp/tmptvdooj3y/tensorboard_logs/regularizers/Tiny')"
            ]
          },
          "metadata": {
            "tags": []
          },
          "execution_count": 150
        }
      ]
    },
    {
      "cell_type": "code",
      "metadata": {
        "id": "nrfr6-1W9-gz",
        "colab_type": "code",
        "colab": {}
      },
      "source": [
        "regularizer_histories = {}\n",
        "regularizer_histories['Tiny'] = size_histories['Tiny']"
      ],
      "execution_count": 0,
      "outputs": []
    },
    {
      "cell_type": "code",
      "metadata": {
        "id": "kMK5KufF-BO-",
        "colab_type": "code",
        "outputId": "5f92697a-b869-4f56-b280-e7d30464159c",
        "colab": {
          "base_uri": "https://localhost:8080/",
          "height": 476
        }
      },
      "source": [
        "l2_model = tf.keras.Sequential([\n",
        "    layers.Dense(512, activation='elu',\n",
        "                 kernel_regularizer=regularizers.l2(0.001),\n",
        "                 input_shape=(FEATURES,)),\n",
        "    layers.Dense(512, activation='elu',\n",
        "                 kernel_regularizer=regularizers.l2(0.001)),\n",
        "    layers.Dense(512, activation='elu',\n",
        "                 kernel_regularizer=regularizers.l2(0.001)),\n",
        "    layers.Dense(512, activation='elu',\n",
        "                 kernel_regularizer=regularizers.l2(0.001)),\n",
        "    layers.Dense(1)\n",
        "])\n",
        "\n",
        "regularizer_histories['l2'] = compile_and_fit(l2_model, \"regularizers/l2\")"
      ],
      "execution_count": 0,
      "outputs": [
        {
          "output_type": "stream",
          "text": [
            "Model: \"sequential_18\"\n",
            "_________________________________________________________________\n",
            "Layer (type)                 Output Shape              Param #   \n",
            "=================================================================\n",
            "dense_69 (Dense)             (None, 512)               14848     \n",
            "_________________________________________________________________\n",
            "dense_70 (Dense)             (None, 512)               262656    \n",
            "_________________________________________________________________\n",
            "dense_71 (Dense)             (None, 512)               262656    \n",
            "_________________________________________________________________\n",
            "dense_72 (Dense)             (None, 512)               262656    \n",
            "_________________________________________________________________\n",
            "dense_73 (Dense)             (None, 1)                 513       \n",
            "=================================================================\n",
            "Total params: 803,329\n",
            "Trainable params: 803,329\n",
            "Non-trainable params: 0\n",
            "_________________________________________________________________\n",
            "\n",
            "Epoch: 0, accuracy:0.5020,  binary_crossentropy:0.7890,  loss:2.3038,  val_accuracy:0.4750,  val_binary_crossentropy:0.6902,  val_loss:2.1188,  \n",
            "....................................................................................................\n",
            "Epoch: 100, accuracy:0.6516,  binary_crossentropy:0.5976,  loss:0.6203,  val_accuracy:0.6690,  val_binary_crossentropy:0.5857,  val_loss:0.6088,  \n",
            "....................................................................................................\n",
            "Epoch: 200, accuracy:0.6694,  binary_crossentropy:0.5860,  loss:0.6083,  val_accuracy:0.6690,  val_binary_crossentropy:0.5870,  val_loss:0.6092,  \n",
            "....................................................................................................\n",
            "Epoch: 300, accuracy:0.6824,  binary_crossentropy:0.5755,  loss:0.5984,  val_accuracy:0.6870,  val_binary_crossentropy:0.5798,  val_loss:0.6027,  \n",
            "......................................................."
          ],
          "name": "stdout"
        }
      ]
    },
    {
      "cell_type": "code",
      "metadata": {
        "id": "idKdv7F_-Dr4",
        "colab_type": "code",
        "outputId": "fbc2d99e-fc79-41bc-ff2c-0dd1c555beb6",
        "colab": {
          "base_uri": "https://localhost:8080/",
          "height": 300
        }
      },
      "source": [
        "plotter.plot(regularizer_histories)\n",
        "plt.ylim([0.5, 0.7])"
      ],
      "execution_count": 0,
      "outputs": [
        {
          "output_type": "execute_result",
          "data": {
            "text/plain": [
              "(0.5, 0.7)"
            ]
          },
          "metadata": {
            "tags": []
          },
          "execution_count": 153
        },
        {
          "output_type": "display_data",
          "data": {
            "image/png": "[encoded data removed]",
            "text/plain": [
              "<Figure size 432x288 with 1 Axes>"
            ]
          },
          "metadata": {
            "tags": [],
            "needs_background": "light"
          }
        }
      ]
    },
    {
      "cell_type": "code",
      "metadata": {
        "id": "IaZVYCA0-EIA",
        "colab_type": "code",
        "colab": {}
      },
      "source": [
        "result = l2_model(features)\n",
        "regularization_loss=tf.add_n(l2_model.losses)"
      ],
      "execution_count": 0,
      "outputs": []
    },
    {
      "cell_type": "code",
      "metadata": {
        "id": "ZVuTY-o8-Gjw",
        "colab_type": "code",
        "outputId": "572d63a4-6d08-4980-d368-55560053a92a",
        "colab": {
          "base_uri": "https://localhost:8080/",
          "height": 612
        }
      },
      "source": [
        "dropout_model = tf.keras.Sequential([\n",
        "    layers.Dense(512, activation='elu', input_shape=(FEATURES,)),\n",
        "    layers.Dropout(0.5),\n",
        "    layers.Dense(512, activation='elu'),\n",
        "    layers.Dropout(0.5),\n",
        "    layers.Dense(512, activation='elu'),\n",
        "    layers.Dropout(0.5),\n",
        "    layers.Dense(512, activation='elu'),\n",
        "    layers.Dropout(0.5),\n",
        "    layers.Dense(1)\n",
        "])\n",
        "\n",
        "regularizer_histories['dropout'] = compile_and_fit(dropout_model, \"regularizers/dropout\")"
      ],
      "execution_count": 0,
      "outputs": [
        {
          "output_type": "stream",
          "text": [
            "Model: \"sequential_19\"\n",
            "_________________________________________________________________\n",
            "Layer (type)                 Output Shape              Param #   \n",
            "=================================================================\n",
            "dense_74 (Dense)             (None, 512)               14848     \n",
            "_________________________________________________________________\n",
            "dropout_12 (Dropout)         (None, 512)               0         \n",
            "_________________________________________________________________\n",
            "dense_75 (Dense)             (None, 512)               262656    \n",
            "_________________________________________________________________\n",
            "dropout_13 (Dropout)         (None, 512)               0         \n",
            "_________________________________________________________________\n",
            "dense_76 (Dense)             (None, 512)               262656    \n",
            "_________________________________________________________________\n",
            "dropout_14 (Dropout)         (None, 512)               0         \n",
            "_________________________________________________________________\n",
            "dense_77 (Dense)             (None, 512)               262656    \n",
            "_________________________________________________________________\n",
            "dropout_15 (Dropout)         (None, 512)               0         \n",
            "_________________________________________________________________\n",
            "dense_78 (Dense)             (None, 1)                 513       \n",
            "=================================================================\n",
            "Total params: 803,329\n",
            "Trainable params: 803,329\n",
            "Non-trainable params: 0\n",
            "_________________________________________________________________\n",
            "\n",
            "Epoch: 0, accuracy:0.5084,  binary_crossentropy:0.7871,  loss:0.7871,  val_accuracy:0.5340,  val_binary_crossentropy:0.6802,  val_loss:0.6802,  \n",
            "....................................................................................................\n",
            "Epoch: 100, accuracy:0.6529,  binary_crossentropy:0.5979,  loss:0.5979,  val_accuracy:0.6890,  val_binary_crossentropy:0.5844,  val_loss:0.5844,  \n",
            "....................................................................................................\n",
            "Epoch: 200, accuracy:0.6850,  binary_crossentropy:0.5549,  loss:0.5549,  val_accuracy:0.6810,  val_binary_crossentropy:0.5829,  val_loss:0.5829,  \n",
            "....................................................................................................\n",
            "Epoch: 300, accuracy:0.7293,  binary_crossentropy:0.5054,  loss:0.5054,  val_accuracy:0.6860,  val_binary_crossentropy:0.6017,  val_loss:0.6017,  \n",
            "................................................"
          ],
          "name": "stdout"
        }
      ]
    },
    {
      "cell_type": "code",
      "metadata": {
        "id": "wmnJ9Ass-LYH",
        "colab_type": "code",
        "outputId": "123e133f-7143-4c20-c915-f1fd53d73068",
        "colab": {
          "base_uri": "https://localhost:8080/",
          "height": 300
        }
      },
      "source": [
        "plotter.plot(regularizer_histories)\n",
        "plt.ylim([0.5, 0.7])"
      ],
      "execution_count": 0,
      "outputs": [
        {
          "output_type": "execute_result",
          "data": {
            "text/plain": [
              "(0.5, 0.7)"
            ]
          },
          "metadata": {
            "tags": []
          },
          "execution_count": 156
        },
        {
          "output_type": "display_data",
          "data": {
            "image/png": "[encoded data removed]",
            "text/plain": [
              "<Figure size 432x288 with 1 Axes>"
            ]
          },
          "metadata": {
            "tags": [],
            "needs_background": "light"
          }
        }
      ]
    },
    {
      "cell_type": "markdown",
      "metadata": {
        "id": "PjBgMm8B-Qar",
        "colab_type": "text"
      },
      "source": [
        "Combined L2 + Dropout"
      ]
    },
    {
      "cell_type": "code",
      "metadata": {
        "id": "0v7N5oN_-L_P",
        "colab_type": "code",
        "outputId": "c4157791-a074-4bcd-b194-cc99521b340f",
        "colab": {
          "base_uri": "https://localhost:8080/",
          "height": 782
        }
      },
      "source": [
        "combined_model = tf.keras.Sequential([\n",
        "    layers.Dense(512, kernel_regularizer=regularizers.l2(0.0001),\n",
        "                 activation='elu', input_shape=(FEATURES,)),\n",
        "    layers.Dropout(0.5),\n",
        "    layers.Dense(512, kernel_regularizer=regularizers.l2(0.0001),\n",
        "                 activation='elu'),\n",
        "    layers.Dropout(0.5),\n",
        "    layers.Dense(512, kernel_regularizer=regularizers.l2(0.0001),\n",
        "                 activation='elu'),\n",
        "    layers.Dropout(0.5),\n",
        "    layers.Dense(512, kernel_regularizer=regularizers.l2(0.0001),\n",
        "                 activation='elu'),\n",
        "    layers.Dropout(0.5),\n",
        "    layers.Dense(1)\n",
        "])\n",
        "\n",
        "regularizer_histories['combined'] = compile_and_fit(combined_model, \"regularizers/combined\")\n"
      ],
      "execution_count": 0,
      "outputs": [
        {
          "output_type": "stream",
          "text": [
            "Model: \"sequential_20\"\n",
            "_________________________________________________________________\n",
            "Layer (type)                 Output Shape              Param #   \n",
            "=================================================================\n",
            "dense_79 (Dense)             (None, 512)               14848     \n",
            "_________________________________________________________________\n",
            "dropout_16 (Dropout)         (None, 512)               0         \n",
            "_________________________________________________________________\n",
            "dense_80 (Dense)             (None, 512)               262656    \n",
            "_________________________________________________________________\n",
            "dropout_17 (Dropout)         (None, 512)               0         \n",
            "_________________________________________________________________\n",
            "dense_81 (Dense)             (None, 512)               262656    \n",
            "_________________________________________________________________\n",
            "dropout_18 (Dropout)         (None, 512)               0         \n",
            "_________________________________________________________________\n",
            "dense_82 (Dense)             (None, 512)               262656    \n",
            "_________________________________________________________________\n",
            "dropout_19 (Dropout)         (None, 512)               0         \n",
            "_________________________________________________________________\n",
            "dense_83 (Dense)             (None, 1)                 513       \n",
            "=================================================================\n",
            "Total params: 803,329\n",
            "Trainable params: 803,329\n",
            "Non-trainable params: 0\n",
            "_________________________________________________________________\n",
            "\n",
            "Epoch: 0, accuracy:0.5059,  binary_crossentropy:0.7859,  loss:0.9442,  val_accuracy:0.5030,  val_binary_crossentropy:0.6689,  val_loss:0.8265,  \n",
            "....................................................................................................\n",
            "Epoch: 100, accuracy:0.6511,  binary_crossentropy:0.6031,  loss:0.6324,  val_accuracy:0.6520,  val_binary_crossentropy:0.5843,  val_loss:0.6135,  \n",
            "....................................................................................................\n",
            "Epoch: 200, accuracy:0.6671,  binary_crossentropy:0.5881,  loss:0.6142,  val_accuracy:0.6760,  val_binary_crossentropy:0.5721,  val_loss:0.5982,  \n",
            "....................................................................................................\n",
            "Epoch: 300, accuracy:0.6753,  binary_crossentropy:0.5830,  loss:0.6113,  val_accuracy:0.6720,  val_binary_crossentropy:0.5683,  val_loss:0.5966,  \n",
            "....................................................................................................\n",
            "Epoch: 400, accuracy:0.6741,  binary_crossentropy:0.5781,  loss:0.6085,  val_accuracy:0.6750,  val_binary_crossentropy:0.5610,  val_loss:0.5914,  \n",
            "....................................................................................................\n",
            "Epoch: 500, accuracy:0.6763,  binary_crossentropy:0.5729,  loss:0.6054,  val_accuracy:0.6930,  val_binary_crossentropy:0.5509,  val_loss:0.5834,  \n",
            "....................................................................................................\n",
            "Epoch: 600, accuracy:0.6814,  binary_crossentropy:0.5653,  loss:0.5998,  val_accuracy:0.7000,  val_binary_crossentropy:0.5473,  val_loss:0.5819,  \n",
            "....................................................................................................\n",
            "Epoch: 700, accuracy:0.6882,  binary_crossentropy:0.5606,  loss:0.5974,  val_accuracy:0.6890,  val_binary_crossentropy:0.5508,  val_loss:0.5876,  \n",
            "....................................................................................................\n",
            "Epoch: 800, accuracy:0.6915,  binary_crossentropy:0.5566,  loss:0.5951,  val_accuracy:0.6900,  val_binary_crossentropy:0.5578,  val_loss:0.5963,  \n",
            "......................................................................."
          ],
          "name": "stdout"
        }
      ]
    },
    {
      "cell_type": "code",
      "metadata": {
        "id": "imrI8z-P-VYm",
        "colab_type": "code",
        "outputId": "2f360f23-ea93-4a83-f837-2e4a8864e6ca",
        "colab": {
          "base_uri": "https://localhost:8080/",
          "height": 300
        }
      },
      "source": [
        "plotter.plot(regularizer_histories)\n",
        "plt.ylim([0.5, 0.7])"
      ],
      "execution_count": 0,
      "outputs": [
        {
          "output_type": "execute_result",
          "data": {
            "text/plain": [
              "(0.5, 0.7)"
            ]
          },
          "metadata": {
            "tags": []
          },
          "execution_count": 162
        },
        {
          "output_type": "display_data",
          "data": {
            "image/png": "[encoded data removed]",
            "text/plain": [
              "<Figure size 432x288 with 1 Axes>"
            ]
          },
          "metadata": {
            "tags": [],
            "needs_background": "light"
          }
        }
      ]
    },
    {
      "cell_type": "markdown",
      "metadata": {
        "id": "QCs9xcJt-cRb",
        "colab_type": "text"
      },
      "source": [
        "View in TensorBoard"
      ]
    },
    {
      "cell_type": "code",
      "metadata": {
        "id": "rw0hoWMk-fR9",
        "colab_type": "code",
        "outputId": "5b525aa8-f1f1-4154-ddbb-3c6e97384183",
        "colab": {
          "base_uri": "https://localhost:8080/",
          "height": 821
        }
      },
      "source": [
        "display.IFrame(\n",
        "    src=\"https://tensorboard.dev/experiment/fGInKDo8TXes1z7HQku9mw/#scalars&_smoothingWeight=0.97\",\n",
        "    width = \"100%\",\n",
        "    height=\"800px\")"
      ],
      "execution_count": 0,
      "outputs": [
        {
          "output_type": "execute_result",
          "data": {
            "text/html": [
              "\n",
              "        <iframe\n",
              "            width=\"100%\"\n",
              "            height=\"800px\"\n",
              "            src=\"https://tensorboard.dev/experiment/fGInKDo8TXes1z7HQku9mw/#scalars&_smoothingWeight=0.97\"\n",
              "            frameborder=\"0\"\n",
              "            allowfullscreen\n",
              "        ></iframe>\n",
              "        "
            ],
            "text/plain": [
              "<IPython.lib.display.IFrame at 0x7fcfa608f780>"
            ]
          },
          "metadata": {
            "tags": []
          },
          "execution_count": 163
        }
      ]
    },
    {
      "cell_type": "markdown",
      "metadata": {
        "id": "IFaYIUpy-sZm",
        "colab_type": "text"
      },
      "source": [
        "**Conclusions**\n",
        "\n",
        "To recap: here are the most common ways to prevent overfitting in neural networks:\n",
        "\n",
        "Get more training data.\n",
        "Reduce the capacity of the network.\n",
        "Add weight regularization.\n",
        "Add dropout.\n",
        "Two important approaches not covered in this guide are:\n",
        "\n",
        "\n",
        "data-augmentation\n",
        "batch normalization\n",
        "Remember that each method can help on its own, but often combining them can be even more effective.\n",
        "\n"
      ]
    },
    {
      "cell_type": "code",
      "metadata": {
        "id": "K5lFqWrs-vWY",
        "colab_type": "code",
        "colab": {}
      },
      "source": [
        ""
      ],
      "execution_count": 0,
      "outputs": []
    }
  ]
}