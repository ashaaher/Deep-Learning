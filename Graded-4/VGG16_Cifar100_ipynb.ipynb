{
  "nbformat": 4,
  "nbformat_minor": 0,
  "metadata": {
    "colab": {
      "name": "VGG16_Cifar100.ipynb.ipynb",
      "provenance": [],
      "authorship_tag": "ABX9TyNmFf1bxYoTvFn/x06Oq5VW",
      "include_colab_link": true
    },
    "kernelspec": {
      "name": "python3",
      "display_name": "Python 3"
    }
  },
  "cells": [
    {
      "cell_type": "markdown",
      "metadata": {
        "id": "view-in-github",
        "colab_type": "text"
      },
      "source": [
        "<a href=\"https://colab.research.google.com/github/ashaaher/Deep-Learning/blob/master/Graded-4/VGG16_Cifar100_ipynb.ipynb\" target=\"_parent\"><img src=\"https://colab.research.google.com/assets/colab-badge.svg\" alt=\"Open In Colab\"/></a>"
      ]
    },
    {
      "cell_type": "code",
      "metadata": {
        "id": "QR77rmKaBPAE",
        "colab_type": "code",
        "outputId": "6d67fb58-300a-4540-9d8f-166819e0c38f",
        "colab": {
          "base_uri": "https://localhost:8080/",
          "height": 34
        }
      },
      "source": [
        "import tensorflow.keras as keras\n",
        "from keras.models import Sequential\n",
        "from keras.layers import Dense, Conv2D, MaxPool2D , Flatten\n",
        "from keras.preprocessing.image import ImageDataGenerator\n",
        "from keras.datasets import cifar100\n",
        "from keras.optimizers import Adam\n",
        "from keras.utils import to_categorical\n",
        "\n",
        "import numpy as np\n",
        "\n",
        "import time\n",
        "import datetime\n",
        "from keras.callbacks import TensorBoard\n",
        "%load_ext tensorboard"
      ],
      "execution_count": 0,
      "outputs": [
        {
          "output_type": "stream",
          "text": [
            "Using TensorFlow backend.\n"
          ],
          "name": "stderr"
        }
      ]
    },
    {
      "cell_type": "code",
      "metadata": {
        "id": "xRzTIjU0BqBY",
        "colab_type": "code",
        "outputId": "0e9b4baa-86f1-43d7-beb8-dbb1698ae57b",
        "colab": {
          "base_uri": "https://localhost:8080/",
          "height": 51
        }
      },
      "source": [
        "(x_train, y_train), (x_test, y_test) = cifar100.load_data()"
      ],
      "execution_count": 0,
      "outputs": [
        {
          "output_type": "stream",
          "text": [
            "Downloading data from https://www.cs.toronto.edu/~kriz/cifar-100-python.tar.gz\n",
            "169009152/169001437 [==============================] - 11s 0us/step\n"
          ],
          "name": "stdout"
        }
      ]
    },
    {
      "cell_type": "code",
      "metadata": {
        "id": "Uk_A-5gLBzwh",
        "colab_type": "code",
        "outputId": "37c4bc91-963e-4aca-f324-36121af09a93",
        "colab": {
          "base_uri": "https://localhost:8080/",
          "height": 85
        }
      },
      "source": [
        "print(x_train.shape)\n",
        "print(y_train.shape)\n",
        "print(x_test.shape)\n",
        "print(y_test.shape)"
      ],
      "execution_count": 0,
      "outputs": [
        {
          "output_type": "stream",
          "text": [
            "(50000, 32, 32, 3)\n",
            "(50000, 1)\n",
            "(10000, 32, 32, 3)\n",
            "(10000, 1)\n"
          ],
          "name": "stdout"
        }
      ]
    },
    {
      "cell_type": "markdown",
      "metadata": {
        "id": "BIBb5l33B6k7",
        "colab_type": "text"
      },
      "source": [
        "One Hot Encoding"
      ]
    },
    {
      "cell_type": "code",
      "metadata": {
        "id": "SdHcuKtZB2Qp",
        "colab_type": "code",
        "colab": {}
      },
      "source": [
        "y_train = to_categorical(y_train, 100)\n",
        "y_test = to_categorical(y_test, 100)"
      ],
      "execution_count": 0,
      "outputs": []
    },
    {
      "cell_type": "code",
      "metadata": {
        "id": "2MD6SX-qCBtg",
        "colab_type": "code",
        "outputId": "f10b39e0-c4f0-496c-f8a5-664e96666902",
        "colab": {
          "base_uri": "https://localhost:8080/",
          "height": 85
        }
      },
      "source": [
        "print(x_train.shape)\n",
        "print(y_train.shape)\n",
        "print(x_test.shape)\n",
        "print(y_test.shape)"
      ],
      "execution_count": 0,
      "outputs": [
        {
          "output_type": "stream",
          "text": [
            "(50000, 32, 32, 3)\n",
            "(50000, 100)\n",
            "(10000, 32, 32, 3)\n",
            "(10000, 100)\n"
          ],
          "name": "stdout"
        }
      ]
    },
    {
      "cell_type": "code",
      "metadata": {
        "id": "bheqbVFzCEe0",
        "colab_type": "code",
        "colab": {}
      },
      "source": [
        "model = Sequential()\n",
        "\n",
        "model.add(Conv2D(input_shape=(32,32,3),filters=32,kernel_size=(3,3),padding=\"same\", activation=\"relu\"))\n",
        "model.add(Conv2D(filters=32,kernel_size=(3,3),padding=\"same\", activation=\"relu\"))\n",
        "model.add(MaxPool2D(pool_size=(2,2),strides=(2,2)))\n",
        "\n",
        "model.add(Conv2D(filters=64, kernel_size=(3,3), padding=\"same\", activation=\"relu\"))\n",
        "model.add(Conv2D(filters=64, kernel_size=(3,3), padding=\"same\", activation=\"relu\"))\n",
        "model.add(MaxPool2D(pool_size=(2,2),strides=(2,2)))\n",
        "\n",
        "model.add(Conv2D(filters=128, kernel_size=(3,3), padding=\"same\", activation=\"relu\"))\n",
        "model.add(Conv2D(filters=128, kernel_size=(3,3), padding=\"same\", activation=\"relu\"))\n",
        "model.add(MaxPool2D(pool_size=(2,2),strides=(2,2)))\n",
        "\n",
        "model.add(Conv2D(filters=256, kernel_size=(3,3), padding=\"same\", activation=\"relu\"))\n",
        "model.add(Conv2D(filters=256, kernel_size=(3,3), padding=\"same\", activation=\"relu\"))\n",
        "model.add(MaxPool2D(pool_size=(2,2),strides=(2,2)))\n",
        "\n",
        "model.add(Conv2D(filters=512, kernel_size=(3,3), padding=\"same\", activation=\"relu\"))\n",
        "model.add(Conv2D(filters=512, kernel_size=(3,3), padding=\"same\", activation=\"relu\"))\n",
        "model.add(MaxPool2D(pool_size=(2,2),strides=(2,2)))\n",
        "\n",
        "model.add(Flatten())\n",
        "model.add(Dense(units=4096,activation=\"relu\"))\n",
        "model.add(Dense(units=4096,activation=\"relu\"))\n",
        "model.add(Dense(units=100, activation=\"softmax\"))"
      ],
      "execution_count": 0,
      "outputs": []
    },
    {
      "cell_type": "markdown",
      "metadata": {
        "id": "dAURTgY2COK0",
        "colab_type": "text"
      },
      "source": [
        "Compile the model"
      ]
    },
    {
      "cell_type": "code",
      "metadata": {
        "id": "juTKE2l5CKmn",
        "colab_type": "code",
        "colab": {}
      },
      "source": [
        "opt = Adam(lr=0.001)\n",
        "model.compile(optimizer=opt, loss=keras.losses.categorical_crossentropy, metrics=['accuracy'])"
      ],
      "execution_count": 0,
      "outputs": []
    },
    {
      "cell_type": "code",
      "metadata": {
        "id": "dr2bqQ81CQfx",
        "colab_type": "code",
        "colab": {}
      },
      "source": [
        "log_dir = \"logs/fit/\" + datetime.datetime.now().strftime(\"%Y%m%d-%H%M%S\")\n",
        "tensorboard_callback = TensorBoard(log_dir=log_dir, histogram_freq=1)"
      ],
      "execution_count": 0,
      "outputs": []
    },
    {
      "cell_type": "code",
      "metadata": {
        "id": "sy7hl4BSCTuM",
        "colab_type": "code",
        "outputId": "2f0b3a6d-e36e-462b-8667-1e420ebbe857",
        "colab": {
          "base_uri": "https://localhost:8080/",
          "height": 510
        }
      },
      "source": [
        "# Train the model \n",
        "model.fit(x_train, y_train, batch_size = 128, epochs=100, verbose = 1, validation_split=0.2, callbacks=[tensorboard_callback])"
      ],
      "execution_count": 0,
      "outputs": [
        {
          "output_type": "stream",
          "text": [
            "Train on 40000 samples, validate on 10000 samples\n",
            "Epoch 1/100\n",
            "40000/40000 [==============================] - 1331s 33ms/step - loss: 4.3904 - accuracy: 0.0243 - val_loss: 4.2054 - val_accuracy: 0.0350\n",
            "Epoch 2/100\n",
            "40000/40000 [==============================] - 1314s 33ms/step - loss: 4.0924 - accuracy: 0.0498 - val_loss: 4.0332 - val_accuracy: 0.0535\n",
            "Epoch 3/100\n",
            "40000/40000 [==============================] - 1339s 33ms/step - loss: 3.8742 - accuracy: 0.0767 - val_loss: 3.7711 - val_accuracy: 0.0902\n",
            "Epoch 4/100\n",
            "40000/40000 [==============================] - 1305s 33ms/step - loss: 3.6671 - accuracy: 0.1103 - val_loss: 3.6171 - val_accuracy: 0.1235\n",
            "Epoch 5/100\n",
            "40000/40000 [==============================] - 1327s 33ms/step - loss: 3.5021 - accuracy: 0.1400 - val_loss: 3.5421 - val_accuracy: 0.1372\n",
            "Epoch 6/100\n",
            "40000/40000 [==============================] - 1343s 34ms/step - loss: 3.3698 - accuracy: 0.1671 - val_loss: 3.4466 - val_accuracy: 0.1622\n",
            "Epoch 7/100\n",
            "40000/40000 [==============================] - 1349s 34ms/step - loss: 3.2215 - accuracy: 0.1930 - val_loss: 3.3485 - val_accuracy: 0.1793\n",
            "Epoch 8/100\n",
            "40000/40000 [==============================] - 1319s 33ms/step - loss: 3.0585 - accuracy: 0.2253 - val_loss: 3.1817 - val_accuracy: 0.2149\n",
            "Epoch 9/100\n",
            "40000/40000 [==============================] - 1335s 33ms/step - loss: 2.9232 - accuracy: 0.2534 - val_loss: 3.1595 - val_accuracy: 0.2235\n",
            "Epoch 10/100\n",
            "40000/40000 [==============================] - 1372s 34ms/step - loss: 2.7885 - accuracy: 0.2781 - val_loss: 3.1274 - val_accuracy: 0.2291\n",
            "Epoch 11/100\n",
            "40000/40000 [==============================] - 1380s 35ms/step - loss: 2.6576 - accuracy: 0.3057 - val_loss: 3.0905 - val_accuracy: 0.2437\n",
            "Epoch 12/100\n",
            "40000/40000 [==============================] - 1419s 35ms/step - loss: 2.5465 - accuracy: 0.3275 - val_loss: 3.0373 - val_accuracy: 0.2574\n",
            "Epoch 13/100\n",
            "40000/40000 [==============================] - 1454s 36ms/step - loss: 2.4492 - accuracy: 0.3471 - val_loss: 3.0385 - val_accuracy: 0.2622\n",
            "Epoch 14/100\n",
            "30080/40000 [=====================>........] - ETA: 6:05 - loss: 2.3196 - accuracy: 0.3769"
          ],
          "name": "stdout"
        }
      ]
    },
    {
      "cell_type": "code",
      "metadata": {
        "id": "b3dyGiLRCZ_Z",
        "colab_type": "code",
        "colab": {}
      },
      "source": [
        "# Evaluate the model\n",
        "history = model.evaluate(x_test, y_test, batch_size = 128, verbose = 3)\n",
        "\n",
        "# Print the model's accuracy\n",
        "print(history)"
      ],
      "execution_count": 0,
      "outputs": []
    },
    {
      "cell_type": "code",
      "metadata": {
        "id": "0LLMELxECmo3",
        "colab_type": "code",
        "colab": {}
      },
      "source": [
        "%tensorboard --logdir logs/fit"
      ],
      "execution_count": 0,
      "outputs": []
    },
    {
      "cell_type": "code",
      "metadata": {
        "id": "XDaCz4TjYMk8",
        "colab_type": "code",
        "colab": {}
      },
      "source": [
        ""
      ],
      "execution_count": 0,
      "outputs": []
    }
  ]
}